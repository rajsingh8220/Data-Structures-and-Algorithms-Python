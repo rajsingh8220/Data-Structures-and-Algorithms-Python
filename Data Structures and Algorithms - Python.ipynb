{
 "cells": [
  {
   "cell_type": "markdown",
   "metadata": {},
   "source": [
    "## 1. Linear Search\n",
    "#### Algorithm\n",
    "```\n",
    "position <- 0\n",
    "found <- False\n",
    "while position < len(List) and not found:\n",
    "    if List[position] = item:\n",
    "        found <- True\n",
    "    position <- position + 1\n",
    "```\n",
    "#### Code"
   ]
  },
  {
   "cell_type": "code",
   "execution_count": 4,
   "metadata": {},
   "outputs": [],
   "source": [
    "def linearSearch(myItem, myList):\n",
    "    found = False\n",
    "    found_at = 0\n",
    "    i = 0\n",
    "    while i < len(myList) and not found:\n",
    "        if(myItem == myList[i]):\n",
    "            found = True\n",
    "            found_at = i;\n",
    "        i += 1\n",
    "    \n",
    "    return found, found_at"
   ]
  },
  {
   "cell_type": "code",
   "execution_count": 5,
   "metadata": {},
   "outputs": [
    {
     "name": "stdout",
     "output_type": "stream",
     "text": [
      "(True, 7)\n"
     ]
    }
   ],
   "source": [
    "a_list = [10,29,1,2,3,45,5,6]\n",
    "print(linearSearch(6,a_list))"
   ]
  },
  {
   "cell_type": "markdown",
   "metadata": {},
   "source": [
    "## 2. Binary Search\n",
    "The binary search is used to find an item in an ORDERED list.\n",
    "\n",
    "```\n",
    "2, 5, 7, 12, 14, 21, 28, 31, 36\n",
    "```\n",
    "#### Algorithm\n",
    "```\n",
    "Found <- False\n",
    "while not Found and first <= top\n",
    "    Midpoint <- (First + Last) DIV 2\n",
    "    If List[Midpoint] = ItemSought Then\n",
    "        ItemFound <- True\n",
    "    Else\n",
    "        If First >= Last Then\n",
    "            SearchFailed <- True\n",
    "        Else\n",
    "            If List[Midpoint] > ItemSought Then\n",
    "                Last <- Midpoint - 1\n",
    "            Else\n",
    "                First <- Midpoint + 1\n",
    "            EndIf\n",
    "        EndIf\n",
    "    EndIf\n",
    "```"
   ]
  },
  {
   "cell_type": "code",
   "execution_count": 13,
   "metadata": {},
   "outputs": [],
   "source": [
    "def binarySearch(myItem, myList):\n",
    "    found = False\n",
    "    bottom = 0\n",
    "    top = len(myList)-1\n",
    "    number_of_iteration = 0\n",
    "    while bottom <= top and not found:\n",
    "        number_of_iteration += 1\n",
    "        middle = (bottom+top)//2\n",
    "        if myList[middle]==myItem:\n",
    "            found = True\n",
    "        elif myList[middle] < myItem:\n",
    "            bottom = middle+1\n",
    "        else:\n",
    "            top = middle-1\n",
    "    return found, middle, number_of_iteration"
   ]
  },
  {
   "cell_type": "code",
   "execution_count": 14,
   "metadata": {},
   "outputs": [
    {
     "name": "stdout",
     "output_type": "stream",
     "text": [
      "(True, 8, 4)\n"
     ]
    }
   ],
   "source": [
    "a_list = [2, 5, 7, 12, 14, 21, 28, 31, 36]\n",
    "search = 36\n",
    "print(binarySearch(search,a_list))"
   ]
  },
  {
   "cell_type": "markdown",
   "metadata": {},
   "source": [
    "## 3. Bubble Sort\n",
    "```\n",
    "12, 5, 7, 18, 11, 6, 12, 4, 17, 1\n",
    "```\n",
    "\n",
    "#### Algorithm\n",
    "```\n",
    "Repeat\n",
    "    X ← StartofArray\n",
    "    Flag ← False\n",
    "    Repeat\n",
    "        If Number(X) > Number (X+ 1) Then\n",
    "            Temp ← Number(X)\n",
    "            Number (X) ← Number (X+ 1)\n",
    "            Number(X+I) ← Temp\n",
    "            Flag ← True\n",
    "        End If\n",
    "        X ← X+1\n",
    "    Until EndofArray\n",
    "Until Flag = False\n",
    "```"
   ]
  },
  {
   "cell_type": "code",
   "execution_count": 18,
   "metadata": {},
   "outputs": [
    {
     "name": "stdout",
     "output_type": "stream",
     "text": [
      "[1, 4, 5, 6, 7, 11, 12, 12, 17, 18]\n"
     ]
    }
   ],
   "source": [
    "def bubbleSort(myList):\n",
    "    moreSwaps = True\n",
    "    while moreSwaps:\n",
    "        moreSwaps = False\n",
    "        for element in range(len(myList)-1):\n",
    "            if myList[element] > myList[element+1]:\n",
    "                #Swap\n",
    "                temp = myList[element+1]\n",
    "                myList[element+1] = myList[element] \n",
    "                myList[element] = temp\n",
    "                moreSwaps = True\n",
    "                \n",
    "    return myList\n",
    "\n",
    "\n",
    "                \n",
    "a_list = [12, 5, 7, 18, 11, 6, 12, 4, 17, 1]\n",
    "print(bubbleSort(a_list))"
   ]
  },
  {
   "cell_type": "markdown",
   "metadata": {},
   "source": [
    "## 4. Insertion Sort\n",
    "#### Algorithm\n",
    "```\n",
    "Procedure InsertionSort (List, First, Last)\n",
    "    For CurrentPointer <- First + 1 To Last\n",
    "        CurrentValue <- List[CurrentPointer]\n",
    "        Pointer <- CurrentPointer − 1\n",
    "        While List[Pointer] > CurrentValue AND Pointer > 0\n",
    "            List[Pointer+1] <- List[Pointer]\n",
    "            Pointer <- Pointer − 1\n",
    "        EndWhile\n",
    "        List[Pointer+1] <- CurrentValue\n",
    "    EndFor\n",
    "EndProcedure\n",
    "```"
   ]
  },
  {
   "cell_type": "code",
   "execution_count": null,
   "metadata": {},
   "outputs": [],
   "source": []
  },
  {
   "cell_type": "markdown",
   "metadata": {},
   "source": [
    "## 5. Quick Sort\n"
   ]
  },
  {
   "cell_type": "code",
   "execution_count": 20,
   "metadata": {},
   "outputs": [
    {
     "name": "stdout",
     "output_type": "stream",
     "text": [
      "[1, 2, 4, 5, 6, 7, 11, 19, 29]\n"
     ]
    }
   ],
   "source": [
    "# quick sort\n",
    "def partition(myList, start, end):\n",
    "    pivot = myList[start]\n",
    "    left = start+1\n",
    "    # Start outside the area to be partitioned\n",
    "    right = end\n",
    "    done = False\n",
    "    while not done:\n",
    "        while left <= right and myList[left] <= pivot:\n",
    "            left = left + 1\n",
    "        while myList[right] >= pivot and right >=left:\n",
    "            right = right -1\n",
    "        if right < left:\n",
    "            done= True\n",
    "        else:\n",
    "            # swap places\n",
    "            temp=myList[left]\n",
    "            myList[left]=myList[right]\n",
    "            myList[right]=temp\n",
    "    # swap start with myList[right]\n",
    "    temp=myList[start]\n",
    "    myList[start]=myList[right]\n",
    "    myList[right]=temp\n",
    "    return right\n",
    "\n",
    "\n",
    "def quicksort(myList, start, end):\n",
    "    if start < end:\n",
    "        # partition the list\n",
    "        split = partition(myList, start, end)\n",
    "        # sort both halves\n",
    "        quicksort(myList, start, split-1)\n",
    "        quicksort(myList, split+1, end)\n",
    "    return myList\n",
    "\n",
    "\n",
    "\n",
    "\n",
    "myList = [7,2,5,1,29,6,4,19,11]\n",
    "sortedList = quicksort(myList,0,len(myList)-1)\n",
    "print(sortedList)"
   ]
  },
  {
   "cell_type": "markdown",
   "metadata": {},
   "source": [
    "## 6. Stack"
   ]
  },
  {
   "cell_type": "code",
   "execution_count": 105,
   "metadata": {},
   "outputs": [],
   "source": [
    "class Stack:\n",
    "    def __init__(self):\n",
    "        self.item = []\n",
    "    def push(self,item):\n",
    "        self.item.append(item)\n",
    "    def pop(self):\n",
    "        del self.item[-1]\n",
    "        \n",
    "    def isEmpty(self):\n",
    "        if self.item ==[]:\n",
    "            return True\n",
    "        else:\n",
    "            return False\n",
    "    def __str__(self):\n",
    "        my_string = \"\"\n",
    "        for a in reversed(self.item):\n",
    "            my_string = my_string+\"|\"+str(a)\n",
    "        return my_string\n",
    "\n",
    "        "
   ]
  },
  {
   "cell_type": "code",
   "execution_count": 106,
   "metadata": {},
   "outputs": [
    {
     "data": {
      "text/plain": [
       "False"
      ]
     },
     "execution_count": 106,
     "metadata": {},
     "output_type": "execute_result"
    }
   ],
   "source": [
    "myStack = Stack()\n",
    "myStack.push(20)\n",
    "myStack.push(30)\n",
    "myStack.isEmpty()"
   ]
  },
  {
   "cell_type": "code",
   "execution_count": 108,
   "metadata": {},
   "outputs": [
    {
     "name": "stdout",
     "output_type": "stream",
     "text": [
      "|30|20\n"
     ]
    }
   ],
   "source": [
    "print(myStack)\n",
    "\n",
    "myStack.push(50)\n",
    "myStack.push(100)"
   ]
  },
  {
   "cell_type": "code",
   "execution_count": 109,
   "metadata": {},
   "outputs": [
    {
     "name": "stdout",
     "output_type": "stream",
     "text": [
      "|100|50|30|20\n"
     ]
    }
   ],
   "source": [
    "print(myStack)"
   ]
  },
  {
   "cell_type": "code",
   "execution_count": 110,
   "metadata": {},
   "outputs": [],
   "source": [
    "myStack.pop()"
   ]
  },
  {
   "cell_type": "code",
   "execution_count": 111,
   "metadata": {},
   "outputs": [
    {
     "name": "stdout",
     "output_type": "stream",
     "text": [
      "|50|30|20\n"
     ]
    }
   ],
   "source": [
    "print(myStack)"
   ]
  },
  {
   "cell_type": "markdown",
   "metadata": {},
   "source": [
    "## 7. Queue"
   ]
  },
  {
   "cell_type": "code",
   "execution_count": 113,
   "metadata": {},
   "outputs": [],
   "source": [
    "## First in first out, interted in 0 position will be removed first\n",
    "class Queue:\n",
    "    def __init__(self):\n",
    "        self.items = []\n",
    "    def enqueue(self, item):\n",
    "        self.items.append(item)\n",
    "    def dequeue(self):\n",
    "        deletedItem = self.items[0]\n",
    "        del self.items[0]\n",
    "        return deletedItem\n",
    "    def isEmpty(self):\n",
    "        if self.items==[]:\n",
    "            return True\n",
    "        else:\n",
    "            return False\n",
    "  \n",
    "        "
   ]
  },
  {
   "cell_type": "markdown",
   "metadata": {},
   "source": [
    "## 8. Linked List"
   ]
  },
  {
   "cell_type": "code",
   "execution_count": 115,
   "metadata": {},
   "outputs": [
    {
     "name": "stdout",
     "output_type": "stream",
     "text": [
      "car\n",
      "bus\n",
      "lorry\n",
      "\n"
     ]
    }
   ],
   "source": [
    "# Easy/Simple version and easy concept\n",
    "class Node:\n",
    "    def __init__(self, contents=None, next=None):\n",
    "        self.contents = contents\n",
    "        self.next  = next\n",
    "\n",
    "    def getContents(self):\n",
    "        return self.contents\n",
    "\n",
    "    def __str__(self):\n",
    "        return str(self.contents)\n",
    "\n",
    "def print_list(node):\n",
    "    while node:\n",
    "        print(node.getContents())\n",
    "        node = node.next\n",
    "    print()\n",
    "\n",
    "\n",
    "node1 = Node(\"car\")\n",
    "node2 = Node(\"bus\")\n",
    "node3 = Node(\"lorry\")\n",
    "node1.next = node2\n",
    "node2.next = node3\n",
    "print_list(node1)\n",
    "    "
   ]
  },
  {
   "cell_type": "code",
   "execution_count": 148,
   "metadata": {},
   "outputs": [],
   "source": [
    "# Complex version but good one\n"
   ]
  },
  {
   "cell_type": "code",
   "execution_count": 150,
   "metadata": {},
   "outputs": [],
   "source": [
    "import PIL\n",
    "import matplotlib.pyplot as plt \n",
    "import os.path  \n",
    "import PIL.ImageDraw \n",
    "\n",
    "def get_images(directory=None):\n",
    "    if directory == None:\n",
    "        directory = os.getcwd() \n",
    "        image_list = [] \n",
    "        file_list = []\n",
    "    directory_list = os.listdir(directory) \n",
    "    for entry in directory_list:\n",
    "        absolute_filename = os.path.join(directory, entry)\n",
    "        try:\n",
    "            image = PIL.Image.open(absolute_filename)\n",
    "            file_list += [entry]\n",
    "            image_list += [image]\n",
    "        except IOError:\n",
    "            pass \n",
    "    return image_list, file_list\n",
    "\n",
    "def alter_one_image(directory=None):\n",
    "    directory = os.path.dirname(os.path.abspath(__file__))  \n",
    "    chungus = os.path.join(directory, 'big_chungus.jfif')\n",
    "    chungus_img = PIL.Image.open(chungus)\n",
    "    chungus_small = chungus_img.resize((89, 87))\n",
    "    chungus_img.paste(chungus_small, (1162, 966), mask=chungus_small)\n",
    "    new=PIL.Image.new\n",
    "    return new\n",
    "def alter_all_images(directory=None):\n",
    "    if directory == None:\n",
    "        directory = os.getcwd() \n",
    "        new_directory = os.path.join(directory, 'modified')\n",
    "    try:\n",
    "        os.mkdir(new_directory)\n",
    "    except OSError:\n",
    "        pass \n",
    "    image_list, file_list = get_images(directory) \n",
    "    for n in range(len(image_list)):\n",
    "        print(n)\n",
    "        filename, filetype = os.path.splitext(file_list[n])\n",
    "        curr_image = image_list[n]\n",
    "        new_image = alter_one_image(curr_image) \n",
    "        new_image_filename = os.path.join(new_directory, filename + '.png')\n",
    "        new_image.save(new_image_filename)  "
   ]
  },
  {
   "cell_type": "code",
   "execution_count": null,
   "metadata": {},
   "outputs": [],
   "source": []
  },
  {
   "cell_type": "code",
   "execution_count": null,
   "metadata": {},
   "outputs": [],
   "source": []
  },
  {
   "cell_type": "code",
   "execution_count": 156,
   "metadata": {},
   "outputs": [
    {
     "name": "stderr",
     "output_type": "stream",
     "text": [
      "Exception in Tkinter callback\n",
      "Traceback (most recent call last):\n",
      "  File \"C:\\Users\\Admin\\Anaconda3\\lib\\tkinter\\__init__.py\", line 1702, in __call__\n",
      "    return self.func(*args)\n",
      "  File \"<ipython-input-156-b13c451bda29>\", line 52, in <lambda>\n",
      "    command=lambda:SampleApp.draw())\n",
      "AttributeError: type object 'SampleApp' has no attribute 'draw'\n",
      "Exception in Tkinter callback\n",
      "Traceback (most recent call last):\n",
      "  File \"C:\\Users\\Admin\\Anaconda3\\lib\\tkinter\\__init__.py\", line 1702, in __call__\n",
      "    return self.func(*args)\n",
      "  File \"<ipython-input-156-b13c451bda29>\", line 52, in <lambda>\n",
      "    command=lambda:SampleApp.draw())\n",
      "AttributeError: type object 'SampleApp' has no attribute 'draw'\n"
     ]
    }
   ],
   "source": [
    "import tkinter as tk\n",
    "\n",
    "class SampleApp(tk.Tk):\n",
    "\n",
    "\n",
    "    def show_frame(self, page_name):\n",
    "        frame = self.frames[page_name]\n",
    "        frame.tkraise()\n",
    "\n",
    "    def __init__(self, *args, **kwargs):\n",
    "        tk.Tk.__init__(self, *args, **kwargs)\n",
    "\n",
    "\n",
    "        self.left_frame = tk.Frame(self, width=426, height=600)\n",
    "        self.left_frame.grid(column=0, row=3, columnspan=3, rowspan=10)\n",
    "\n",
    "        self.right_frame = tk.Frame(self, width=855, borderwidth=2, \n",
    "        relief=\"solid\")\n",
    "        self.right_frame.grid(column=4, row=0, rowspan=9, sticky=\"nsew\")\n",
    "\n",
    "\n",
    "        self.frames = {}\n",
    "        for F in (A, B):\n",
    "            page_name = F.__name__\n",
    "            frame = F(parent=self.left_frame, controller=self)\n",
    "            frame.configure(width=426, height=511, borderwidth=2, \n",
    "            relief=\"solid\")\n",
    "            self.frames[page_name] = frame\n",
    "            frame.grid(row=0, column=0, columnspan=3, \n",
    "            rowspan=2,sticky=\"nsew\")\n",
    "\n",
    "        self.show_frame(\"A\")\n",
    "\n",
    "\n",
    "\n",
    "class A(tk.Frame):\n",
    "\n",
    "    def __init__(self, parent, controller):\n",
    "        tk.Frame.__init__(self, parent)\n",
    "        self.controller = controller\n",
    "        button = tk.Button(self, text=\"Go to the start page\",\n",
    "                       command=lambda: controller.show_frame(\"B\"))\n",
    "        button.pack()\n",
    "\n",
    "class B(tk.Frame):\n",
    "    def __init__(self, parent, controller):\n",
    "        tk.Frame.__init__(self, parent)\n",
    "        self.controller = controller\n",
    "\n",
    "\n",
    "        submit_button = tk.Button(self, text=\"Submit\", \n",
    "        command=lambda:SampleApp.draw())\n",
    "        submit_button.place(x=180, y=320)\n",
    "\n",
    "\n",
    "\n",
    "app = SampleApp()\n",
    "app.mainloop()"
   ]
  },
  {
   "cell_type": "markdown",
   "metadata": {},
   "source": [
    "# Using defaultdict\n"
   ]
  },
  {
   "cell_type": "code",
   "execution_count": 6,
   "metadata": {},
   "outputs": [
    {
     "name": "stdout",
     "output_type": "stream",
     "text": [
      "{'P': 6, '\\n': 6, 'y': 7, 't': 22, 'h': 11, 'o': 17, 'n': 17, ' ': 57, 'i': 24, 's': 29, 'a': 22, 'w': 4, 'e': 42, 'm': 8, 'D': 1, 'c': 9, 'r': 19, 'x': 4, 'l': 8, 'v': 3, 'd': 8, 'u': 7, '.': 5, 'T': 4, 'j': 2, 'b': 3, 'f': 5, 'k': 3, 'p': 2, ';': 1, ',': 1, 'g': 1, 'W': 1}\n"
     ]
    }
   ],
   "source": [
    "def letter_frequency(sentence):\n",
    "    frequencies = {'P':5}\n",
    "    for letter in sentence:\n",
    "        frequency = frequencies.setdefault(letter, 0)\n",
    "        frequencies[letter] = frequency + 1\n",
    "    return frequencies\n",
    "\n",
    "print(letter_frequency(\n",
    "\"\"\"\n",
    "Python is awesome Dictionaries are extremely versatile and have numerous uses. There are two major \n",
    "ways that dictionaries can be used. The first is dictionaries where all the keys \n",
    "represent different instances of similar objects; for example, our stock dictionary. \n",
    "This is an indexing system. We use the stock symbol as an index to the values. The \n",
    "\n",
    "\"\"\"\n",
    "))"
   ]
  },
  {
   "cell_type": "code",
   "execution_count": null,
   "metadata": {},
   "outputs": [],
   "source": []
  }
 ],
 "metadata": {
  "kernelspec": {
   "display_name": "Python 3",
   "language": "python",
   "name": "python3"
  },
  "language_info": {
   "codemirror_mode": {
    "name": "ipython",
    "version": 3
   },
   "file_extension": ".py",
   "mimetype": "text/x-python",
   "name": "python",
   "nbconvert_exporter": "python",
   "pygments_lexer": "ipython3",
   "version": "3.6.5"
  }
 },
 "nbformat": 4,
 "nbformat_minor": 2
}
