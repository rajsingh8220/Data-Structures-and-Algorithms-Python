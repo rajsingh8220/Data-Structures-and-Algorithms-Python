{
 "cells": [
  {
   "cell_type": "markdown",
   "metadata": {},
   "source": [
    "## Exception Handling"
   ]
  },
  {
   "cell_type": "markdown",
   "metadata": {},
   "source": [
    "#### Try....Except"
   ]
  },
  {
   "cell_type": "code",
   "execution_count": 6,
   "metadata": {},
   "outputs": [
    {
     "name": "stdout",
     "output_type": "stream",
     "text": [
      "This is an error message!\n"
     ]
    }
   ],
   "source": [
    "try:\n",
    "    printff(\"Hello World\")\n",
    "except:\n",
    "    print(\"This is an error message!\")"
   ]
  },
  {
   "cell_type": "code",
   "execution_count": 7,
   "metadata": {},
   "outputs": [
    {
     "name": "stdout",
     "output_type": "stream",
     "text": [
      "Some Error occured\n"
     ]
    }
   ],
   "source": [
    "try:\n",
    "    printff(\"Hello World\")\n",
    "except ValueError:\n",
    "    print('Incorect method used')\n",
    "except:\n",
    "    print(\"Some Error occured\")\n"
   ]
  },
  {
   "cell_type": "markdown",
   "metadata": {},
   "source": [
    "# Object Oriented Programming"
   ]
  },
  {
   "cell_type": "code",
   "execution_count": 10,
   "metadata": {},
   "outputs": [],
   "source": [
    "#Basic class, calculate distance between two cordinates\n",
    "import math\n",
    "class Point:\n",
    "    def move(self, x, y):\n",
    "        self.x = x\n",
    "        self.y = y\n",
    "    def reset(self):\n",
    "        self.move(0,0)\n",
    "        \n",
    "    def calculate_distance(self, other_point):\n",
    "        return math.sqrt((self.x-other_point.x)**2 + (self.y-other_point.x)**2)"
   ]
  },
  {
   "cell_type": "code",
   "execution_count": 13,
   "metadata": {},
   "outputs": [
    {
     "name": "stdout",
     "output_type": "stream",
     "text": [
      "5.0\n",
      "2.23606797749979\n",
      "3.605551275463989\n"
     ]
    }
   ],
   "source": [
    "point1 = Point()\n",
    "point2 = Point()\n",
    "point1.reset()\n",
    "point2.reset()\n",
    "point1.move(5,0)\n",
    "print(point1.calculate_distance(point2))\n",
    "point2.reset()\n",
    "point2.move(3,4)\n",
    "\n",
    "print(point2.calculate_distance(point1))\n",
    "print(point1.calculate_distance(point2))"
   ]
  },
  {
   "cell_type": "code",
   "execution_count": 16,
   "metadata": {},
   "outputs": [
    {
     "name": "stdout",
     "output_type": "stream",
     "text": [
      "5\n"
     ]
    },
    {
     "ename": "AttributeError",
     "evalue": "'Point' object has no attribute 'y'",
     "output_type": "error",
     "traceback": [
      "\u001b[1;31m---------------------------------------------------------------------------\u001b[0m",
      "\u001b[1;31mAttributeError\u001b[0m                            Traceback (most recent call last)",
      "\u001b[1;32m<ipython-input-16-1100d61b3fb5>\u001b[0m in \u001b[0;36m<module>\u001b[1;34m()\u001b[0m\n\u001b[0;32m      2\u001b[0m \u001b[0mpoint\u001b[0m\u001b[1;33m.\u001b[0m\u001b[0mx\u001b[0m \u001b[1;33m=\u001b[0m \u001b[1;36m5\u001b[0m\u001b[1;33m\u001b[0m\u001b[0m\n\u001b[0;32m      3\u001b[0m \u001b[0mprint\u001b[0m\u001b[1;33m(\u001b[0m\u001b[0mpoint\u001b[0m\u001b[1;33m.\u001b[0m\u001b[0mx\u001b[0m\u001b[1;33m)\u001b[0m\u001b[1;33m\u001b[0m\u001b[0m\n\u001b[1;32m----> 4\u001b[1;33m \u001b[0mprint\u001b[0m\u001b[1;33m(\u001b[0m\u001b[0mpoint\u001b[0m\u001b[1;33m.\u001b[0m\u001b[0my\u001b[0m\u001b[1;33m)\u001b[0m\u001b[1;33m\u001b[0m\u001b[0m\n\u001b[0m",
      "\u001b[1;31mAttributeError\u001b[0m: 'Point' object has no attribute 'y'"
     ]
    }
   ],
   "source": [
    "point = Point()\n",
    "point.x = 5\n",
    "print(point.x)\n",
    "print(point.y)"
   ]
  },
  {
   "cell_type": "markdown",
   "metadata": {},
   "source": [
    "##### We got the above error message because the attribute y is not initialized yet"
   ]
  },
  {
   "cell_type": "markdown",
   "metadata": {},
   "source": [
    "#### Let's add initialization function on the Point class"
   ]
  },
  {
   "cell_type": "code",
   "execution_count": 17,
   "metadata": {},
   "outputs": [],
   "source": [
    "#Basic class, calculate distance between two cordinates\n",
    "import math\n",
    "class Point:\n",
    "    def __init__(self,x,y):\n",
    "        self.move(x,y)\n",
    "    def move(self, x, y):\n",
    "        self.x = x\n",
    "        self.y = y\n",
    "    def reset(self):\n",
    "        self.move(0,0)\n",
    "        \n",
    "    def calculate_distance(self, other_point):\n",
    "        return math.sqrt((self.x-other_point.x)**2 + (self.y-other_point.x)**2)"
   ]
  },
  {
   "cell_type": "code",
   "execution_count": 19,
   "metadata": {},
   "outputs": [
    {
     "name": "stdout",
     "output_type": "stream",
     "text": [
      "3 5\n"
     ]
    }
   ],
   "source": [
    "point = Point(3,5)\n",
    "print(point.x, point.y)"
   ]
  },
  {
   "cell_type": "markdown",
   "metadata": {},
   "source": [
    "#### What if we dont want to make those two arguments required (x,Y)"
   ]
  },
  {
   "cell_type": "code",
   "execution_count": 20,
   "metadata": {},
   "outputs": [],
   "source": [
    "#Basic class, calculate distance between two cordinates\n",
    "import math\n",
    "class Point:\n",
    "    def __init__(self,x=0,y=0): # specified default value in case not provided\n",
    "        self.move(x,y)\n",
    "    def move(self, x, y):\n",
    "        self.x = x\n",
    "        self.y = y\n",
    "    def reset(self):\n",
    "        self.move(0,0)\n",
    "        \n",
    "    def calculate_distance(self, other_point):\n",
    "        return math.sqrt((self.x-other_point.x)**2 + (self.y-other_point.x)**2)"
   ]
  },
  {
   "cell_type": "code",
   "execution_count": 21,
   "metadata": {},
   "outputs": [
    {
     "name": "stdout",
     "output_type": "stream",
     "text": [
      "0 0\n"
     ]
    }
   ],
   "source": [
    "point = Point()\n",
    "print(point.x, point.y)"
   ]
  },
  {
   "cell_type": "markdown",
   "metadata": {},
   "source": [
    "### Explaining yourself - Documentation and help on python terminal"
   ]
  },
  {
   "cell_type": "markdown",
   "metadata": {},
   "source": [
    "#### Docstrings and Documentation"
   ]
  },
  {
   "cell_type": "code",
   "execution_count": 23,
   "metadata": {},
   "outputs": [],
   "source": [
    "import math\n",
    "class Point:\n",
    "    'Represents a point in two-dimensional geometric coordinates'\n",
    "    def __init__(self, x=0, y=0):\n",
    "        '''Initialize the position of a new point. The x and y\n",
    "           coordinates can be specified. If they are not, the point \n",
    "           defaults to the origin.'''\n",
    "        self.move(x,y)\n",
    "        \n",
    "    def move(self, x,y):\n",
    "        \"Move the point to a new location in two-dimensional space.\"\n",
    "        self.x = x\n",
    "        self.y = y\n",
    "        \n",
    "    def reset(self):\n",
    "        'Reset the point back to the geometric origin: 0, 0'\n",
    "        self.x = 0\n",
    "        self.y = 0\n",
    "        \n",
    "\n",
    "    "
   ]
  },
  {
   "cell_type": "markdown",
   "metadata": {},
   "source": [
    "# Using properties to add behaviour to class data\n",
    "We can use the python property keyword to make methods look like a class attribute. If we originally wrote our code to use direct memeber access, we can later add methods to get and set the name without changing the interface."
   ]
  },
  {
   "cell_type": "code",
   "execution_count": 14,
   "metadata": {},
   "outputs": [],
   "source": [
    "class Color:\n",
    "    def __init__(self, rgb_value, name):\n",
    "        self.rgb_value = rgb_value\n",
    "        self._name = name\n",
    "    def _set_name(self,name):\n",
    "        if not name:\n",
    "            raise Exception(\"Invalid Name\")\n",
    "        self._name = name\n",
    "    def _get_name(self):\n",
    "        return self._name\n",
    "    def _del_name(self):\n",
    "        del self._name\n",
    "    name = property(_get_name, _set_name, _del_name, \"THis is name property _name\")"
   ]
  },
  {
   "cell_type": "code",
   "execution_count": 15,
   "metadata": {},
   "outputs": [
    {
     "name": "stdout",
     "output_type": "stream",
     "text": [
      "red\n",
      "red\n"
     ]
    },
    {
     "ename": "AttributeError",
     "evalue": "'Color' object has no attribute '_name'",
     "output_type": "error",
     "traceback": [
      "\u001b[1;31m---------------------------------------------------------------------------\u001b[0m",
      "\u001b[1;31mAttributeError\u001b[0m                            Traceback (most recent call last)",
      "\u001b[1;32m<ipython-input-15-446707e8565a>\u001b[0m in \u001b[0;36m<module>\u001b[1;34m()\u001b[0m\n\u001b[0;32m      3\u001b[0m \u001b[0mprint\u001b[0m\u001b[1;33m(\u001b[0m\u001b[0mc\u001b[0m\u001b[1;33m.\u001b[0m\u001b[0m_get_name\u001b[0m\u001b[1;33m(\u001b[0m\u001b[1;33m)\u001b[0m\u001b[1;33m)\u001b[0m\u001b[1;33m\u001b[0m\u001b[0m\n\u001b[0;32m      4\u001b[0m \u001b[1;32mdel\u001b[0m \u001b[0mc\u001b[0m\u001b[1;33m.\u001b[0m\u001b[0mname\u001b[0m\u001b[1;33m\u001b[0m\u001b[0m\n\u001b[1;32m----> 5\u001b[1;33m \u001b[0mprint\u001b[0m\u001b[1;33m(\u001b[0m\u001b[0mc\u001b[0m\u001b[1;33m.\u001b[0m\u001b[0mname\u001b[0m\u001b[1;33m)\u001b[0m\u001b[1;33m\u001b[0m\u001b[0m\n\u001b[0m",
      "\u001b[1;32m<ipython-input-14-f190cf54f32c>\u001b[0m in \u001b[0;36m_get_name\u001b[1;34m(self)\u001b[0m\n\u001b[0;32m      8\u001b[0m         \u001b[0mself\u001b[0m\u001b[1;33m.\u001b[0m\u001b[0m_name\u001b[0m \u001b[1;33m=\u001b[0m \u001b[0mname\u001b[0m\u001b[1;33m\u001b[0m\u001b[0m\n\u001b[0;32m      9\u001b[0m     \u001b[1;32mdef\u001b[0m \u001b[0m_get_name\u001b[0m\u001b[1;33m(\u001b[0m\u001b[0mself\u001b[0m\u001b[1;33m)\u001b[0m\u001b[1;33m:\u001b[0m\u001b[1;33m\u001b[0m\u001b[0m\n\u001b[1;32m---> 10\u001b[1;33m         \u001b[1;32mreturn\u001b[0m \u001b[0mself\u001b[0m\u001b[1;33m.\u001b[0m\u001b[0m_name\u001b[0m\u001b[1;33m\u001b[0m\u001b[0m\n\u001b[0m\u001b[0;32m     11\u001b[0m     \u001b[1;32mdef\u001b[0m \u001b[0m_del_name\u001b[0m\u001b[1;33m(\u001b[0m\u001b[0mself\u001b[0m\u001b[1;33m)\u001b[0m\u001b[1;33m:\u001b[0m\u001b[1;33m\u001b[0m\u001b[0m\n\u001b[0;32m     12\u001b[0m         \u001b[1;32mdel\u001b[0m \u001b[0mself\u001b[0m\u001b[1;33m.\u001b[0m\u001b[0m_name\u001b[0m\u001b[1;33m\u001b[0m\u001b[0m\n",
      "\u001b[1;31mAttributeError\u001b[0m: 'Color' object has no attribute '_name'"
     ]
    }
   ],
   "source": [
    "c = Color(\"aaa\",\"red\")\n",
    "print(c.name)\n",
    "print(c._get_name())\n",
    "del c.name\n",
    "print(c.name)"
   ]
  },
  {
   "cell_type": "code",
   "execution_count": 16,
   "metadata": {},
   "outputs": [
    {
     "name": "stdout",
     "output_type": "stream",
     "text": [
      "Help on class Color in module __main__:\n",
      "\n",
      "class Color(builtins.object)\n",
      " |  Methods defined here:\n",
      " |  \n",
      " |  __init__(self, rgb_value, name)\n",
      " |      Initialize self.  See help(type(self)) for accurate signature.\n",
      " |  \n",
      " |  ----------------------------------------------------------------------\n",
      " |  Data descriptors defined here:\n",
      " |  \n",
      " |  __dict__\n",
      " |      dictionary for instance variables (if defined)\n",
      " |  \n",
      " |  __weakref__\n",
      " |      list of weak references to the object (if defined)\n",
      " |  \n",
      " |  name\n",
      " |      THis is name property _name\n",
      "\n"
     ]
    }
   ],
   "source": [
    "help(Color)"
   ]
  },
  {
   "cell_type": "markdown",
   "metadata": {},
   "source": [
    "# Decorators: another way to create properties\n",
    "Decorators were introduced in Python 2.4 as a way to modify functions dynamically by passing them as argument to other functions, which eventually return a new function. We won't be covering decorators in-depth at this time, but the basic syntax is easy to grasp.\n",
    "\n",
    "\n"
   ]
  },
  {
   "cell_type": "code",
   "execution_count": 18,
   "metadata": {},
   "outputs": [
    {
     "name": "stdout",
     "output_type": "stream",
     "text": [
      "bar\n"
     ]
    }
   ],
   "source": [
    "# The property function itself can be used with decorator syntax to turn a get function into a property\n",
    "class Foo:\n",
    "    @property\n",
    "    def foo(self):\n",
    "        return \"bar\"\n",
    "    \n",
    "f = Foo()\n",
    "print(f.foo)"
   ]
  },
  {
   "cell_type": "code",
   "execution_count": 28,
   "metadata": {},
   "outputs": [],
   "source": [
    "class Foo:\n",
    "    @property\n",
    "    def foo(self):\n",
    "        return self._foo\n",
    "    @foo.setter\n",
    "    def foo(self, value):\n",
    "        print(\"This is from setter\")\n",
    "        self._foo = value\n"
   ]
  },
  {
   "cell_type": "code",
   "execution_count": 42,
   "metadata": {},
   "outputs": [],
   "source": [
    "class Silly:\n",
    "    @property\n",
    "    def silly(self):\n",
    "        return self._silly\n",
    "    @silly.setter\n",
    "    def silly(self, value):\n",
    "        print(\"setting value on _silly attribute\")\n",
    "        self._silly = value\n",
    "        \n",
    "    @silly.deleter\n",
    "    def silly(self):\n",
    "        print(\"silly Deleted, No attribute called _silly exist now\")\n",
    "        del self._silly"
   ]
  },
  {
   "cell_type": "code",
   "execution_count": 43,
   "metadata": {},
   "outputs": [
    {
     "name": "stdout",
     "output_type": "stream",
     "text": [
      "setting value on _silly attribute\n",
      "test\n",
      "silly Deleted, No attribute called _silly exist now\n",
      "setting value on _silly attribute\n",
      "test2\n"
     ]
    }
   ],
   "source": [
    "s = Silly()\n",
    "s.silly = \"test\"\n",
    "print(s.silly)\n",
    "del s.silly\n",
    "s.silly = \"test2\"\n",
    "print(s.silly)"
   ]
  },
  {
   "cell_type": "markdown",
   "metadata": {},
   "source": [
    "# Managing Objects"
   ]
  },
  {
   "cell_type": "markdown",
   "metadata": {},
   "source": [
    "For example, We will write a program that does a find and replace action for text files stored in a compressed ZIP file. We will need objects to represent the ZIP file and each individual test file (Luckily, we don't have to write these classes, they're available in the Python Standard Library). The manager object will be responsible for ensuring three steps occur in order:\n",
    "- Unzipping the compressed file\n",
    "- Performing the find and replace action\n",
    "- Zipping up the new files\n"
   ]
  },
  {
   "cell_type": "code",
   "execution_count": 44,
   "metadata": {},
   "outputs": [],
   "source": [
    "import sys\n",
    "import os\n",
    "import shutil\n",
    "import zipfile"
   ]
  },
  {
   "cell_type": "code",
   "execution_count": 53,
   "metadata": {},
   "outputs": [
    {
     "name": "stdout",
     "output_type": "stream",
     "text": [
      "['91', '011', '2711', '1111']\n"
     ]
    }
   ],
   "source": [
    "import re\n",
    "a = re.split(r\"[,.]\",\"91,011,2711.1111\")\n",
    "print(a)"
   ]
  },
  {
   "cell_type": "code",
   "execution_count": 54,
   "metadata": {},
   "outputs": [
    {
     "name": "stdout",
     "output_type": "stream",
     "text": [
      "{'name': 'shailesh', 'phone': 601}\n"
     ]
    }
   ],
   "source": [
    "def my_num(**kwargs):\n",
    "    print(kwargs)\n",
    "    \n",
    "my_num(name=\"shailesh\", phone=601)"
   ]
  },
  {
   "cell_type": "code",
   "execution_count": null,
   "metadata": {},
   "outputs": [],
   "source": [
    "\n"
   ]
  },
  {
   "cell_type": "markdown",
   "metadata": {},
   "source": [
    "# Python Data Structures"
   ]
  },
  {
   "cell_type": "markdown",
   "metadata": {},
   "source": [
    "- Tuples\n",
    "- Dictionaries\n",
    "- Lists and sets\n",
    "- How and why to extend built-in objects"
   ]
  },
  {
   "cell_type": "code",
   "execution_count": 2,
   "metadata": {},
   "outputs": [],
   "source": [
    "o = object()"
   ]
  },
  {
   "cell_type": "code",
   "execution_count": 3,
   "metadata": {},
   "outputs": [
    {
     "ename": "AttributeError",
     "evalue": "'object' object has no attribute 'x'",
     "output_type": "error",
     "traceback": [
      "\u001b[1;31m---------------------------------------------------------------------------\u001b[0m",
      "\u001b[1;31mAttributeError\u001b[0m                            Traceback (most recent call last)",
      "\u001b[1;32m<ipython-input-3-76734657a4cc>\u001b[0m in \u001b[0;36m<module>\u001b[1;34m\u001b[0m\n\u001b[1;32m----> 1\u001b[1;33m \u001b[0mo\u001b[0m\u001b[1;33m.\u001b[0m\u001b[0mx\u001b[0m \u001b[1;33m=\u001b[0m \u001b[1;36m5\u001b[0m\u001b[1;33m\u001b[0m\u001b[1;33m\u001b[0m\u001b[0m\n\u001b[0m",
      "\u001b[1;31mAttributeError\u001b[0m: 'object' object has no attribute 'x'"
     ]
    }
   ],
   "source": [
    "o.x = 5"
   ]
  },
  {
   "cell_type": "code",
   "execution_count": 5,
   "metadata": {},
   "outputs": [
    {
     "data": {
      "text/plain": [
       "'Hello'"
      ]
     },
     "execution_count": 5,
     "metadata": {},
     "output_type": "execute_result"
    }
   ],
   "source": [
    "class MyObject:\n",
    "    pass\n",
    "m = MyObject()\n",
    "m.x = \"Hello\"\n",
    "m.x"
   ]
  },
  {
   "cell_type": "markdown",
   "metadata": {},
   "source": [
    "## 1) Tuples"
   ]
  },
  {
   "cell_type": "code",
   "execution_count": 6,
   "metadata": {},
   "outputs": [],
   "source": [
    "stock = \"GOOD\", 613.30, 625.86, 610.50\n",
    "stock2 = (\"GOOD\", 613.30, 625.86, 610.50)\n"
   ]
  },
  {
   "cell_type": "markdown",
   "metadata": {},
   "source": [
    "We can create a tuple by separating the values with comma. Usually tuples are wrapped in parentheses to make them easy to read and group them from other parts of an expression, but this is not always mandatory."
   ]
  },
  {
   "cell_type": "code",
   "execution_count": 12,
   "metadata": {},
   "outputs": [],
   "source": [
    "import datetime\n",
    "def middle(stock, date):\n",
    "    symbol, current, high, low = stock\n",
    "    print((high+low)/2, date)\n",
    "    print(symbol)"
   ]
  },
  {
   "cell_type": "code",
   "execution_count": 13,
   "metadata": {},
   "outputs": [
    {
     "name": "stdout",
     "output_type": "stream",
     "text": [
      "618.1800000000001 2019-01-24\n",
      "GOOD\n"
     ]
    }
   ],
   "source": [
    "middle((\"GOOD\",625.30, 625.86, 610.50), datetime.date(2019, 1, 24))"
   ]
  },
  {
   "cell_type": "code",
   "execution_count": 14,
   "metadata": {},
   "outputs": [
    {
     "data": {
      "text/plain": [
       "625.86"
      ]
     },
     "execution_count": 14,
     "metadata": {},
     "output_type": "execute_result"
    }
   ],
   "source": [
    "stock = \"GOOD\", 613.30, 625.86, 610.50\n",
    "high = stock[2]\n",
    "high"
   ]
  },
  {
   "cell_type": "code",
   "execution_count": 20,
   "metadata": {},
   "outputs": [
    {
     "data": {
      "text/plain": [
       "(613.3, 625.86)"
      ]
     },
     "execution_count": 20,
     "metadata": {},
     "output_type": "execute_result"
    }
   ],
   "source": [
    "stock[1:3]"
   ]
  },
  {
   "cell_type": "markdown",
   "metadata": {},
   "source": [
    "### Named Tuples"
   ]
  },
  {
   "cell_type": "code",
   "execution_count": 24,
   "metadata": {},
   "outputs": [],
   "source": [
    "from collections import namedtuple\n",
    "Stock = namedtuple(\"Stock\", \"symbol current high low\")\n",
    "stock = Stock(\"GOOD\",613.30, high=625.86, low=610.50)"
   ]
  },
  {
   "cell_type": "code",
   "execution_count": 25,
   "metadata": {},
   "outputs": [
    {
     "data": {
      "text/plain": [
       "'GOOD'"
      ]
     },
     "execution_count": 25,
     "metadata": {},
     "output_type": "execute_result"
    }
   ],
   "source": [
    "stock.symbol"
   ]
  },
  {
   "cell_type": "code",
   "execution_count": 26,
   "metadata": {},
   "outputs": [
    {
     "data": {
      "text/plain": [
       "'GOOD'"
      ]
     },
     "execution_count": 26,
     "metadata": {},
     "output_type": "execute_result"
    }
   ],
   "source": [
    "stock[0]"
   ]
  },
  {
   "cell_type": "code",
   "execution_count": 27,
   "metadata": {},
   "outputs": [],
   "source": [
    "symbol, current, high, low = stock"
   ]
  },
  {
   "cell_type": "code",
   "execution_count": 28,
   "metadata": {},
   "outputs": [
    {
     "data": {
      "text/plain": [
       "'GOOD'"
      ]
     },
     "execution_count": 28,
     "metadata": {},
     "output_type": "execute_result"
    }
   ],
   "source": [
    "symbol"
   ]
  },
  {
   "cell_type": "code",
   "execution_count": 29,
   "metadata": {},
   "outputs": [
    {
     "data": {
      "text/plain": [
       "'GOOD'"
      ]
     },
     "execution_count": 29,
     "metadata": {},
     "output_type": "execute_result"
    }
   ],
   "source": [
    "stock.symbol"
   ]
  },
  {
   "cell_type": "code",
   "execution_count": 30,
   "metadata": {},
   "outputs": [
    {
     "data": {
      "text/plain": [
       "613.3"
      ]
     },
     "execution_count": 30,
     "metadata": {},
     "output_type": "execute_result"
    }
   ],
   "source": [
    "stock.current"
   ]
  },
  {
   "cell_type": "code",
   "execution_count": 31,
   "metadata": {},
   "outputs": [
    {
     "ename": "AttributeError",
     "evalue": "can't set attribute",
     "output_type": "error",
     "traceback": [
      "\u001b[1;31m---------------------------------------------------------------------------\u001b[0m",
      "\u001b[1;31mAttributeError\u001b[0m                            Traceback (most recent call last)",
      "\u001b[1;32m<ipython-input-31-ee95dc16f498>\u001b[0m in \u001b[0;36m<module>\u001b[1;34m\u001b[0m\n\u001b[1;32m----> 1\u001b[1;33m \u001b[0mstock\u001b[0m\u001b[1;33m.\u001b[0m\u001b[0mcurrent\u001b[0m \u001b[1;33m=\u001b[0m \u001b[1;36m609.27\u001b[0m\u001b[1;33m\u001b[0m\u001b[1;33m\u001b[0m\u001b[0m\n\u001b[0m",
      "\u001b[1;31mAttributeError\u001b[0m: can't set attribute"
     ]
    }
   ],
   "source": [
    "stock.current = 609.27"
   ]
  },
  {
   "cell_type": "markdown",
   "metadata": {},
   "source": [
    "**Named tuples are immutable, so we cannot modify an attribute once it has been set.**"
   ]
  },
  {
   "cell_type": "markdown",
   "metadata": {},
   "source": [
    "## 2) Dictionaries"
   ]
  },
  {
   "cell_type": "markdown",
   "metadata": {},
   "source": [
    "Dictionaries are incredibly useful objects that allow us to map objects directly to other objects.\n",
    "They should always be used when you want to find one object on another object. The object that is being stored is called the value; the object that is being used as an index is called the key.\n",
    "\n",
    "Dictionaries can be created either using dict() constructor, or using the {} syntax shortcut. In practice the latter format is alomst always used."
   ]
  },
  {
   "cell_type": "code",
   "execution_count": 33,
   "metadata": {},
   "outputs": [
    {
     "data": {
      "text/plain": [
       "(400, 350, 300)"
      ]
     },
     "execution_count": 33,
     "metadata": {},
     "output_type": "execute_result"
    }
   ],
   "source": [
    "stocks = {\n",
    "    \"GOOG\": (400,350,300),\n",
    "    \"MSFT\": (30,40, 25)\n",
    "}\n",
    "stocks[\"GOOG\"]"
   ]
  },
  {
   "cell_type": "code",
   "execution_count": 34,
   "metadata": {},
   "outputs": [
    {
     "ename": "KeyError",
     "evalue": "'RIM'",
     "output_type": "error",
     "traceback": [
      "\u001b[1;31m---------------------------------------------------------------------------\u001b[0m",
      "\u001b[1;31mKeyError\u001b[0m                                  Traceback (most recent call last)",
      "\u001b[1;32m<ipython-input-34-1446d9ba24ea>\u001b[0m in \u001b[0;36m<module>\u001b[1;34m\u001b[0m\n\u001b[1;32m----> 1\u001b[1;33m \u001b[0mstocks\u001b[0m\u001b[1;33m[\u001b[0m\u001b[1;34m\"RIM\"\u001b[0m\u001b[1;33m]\u001b[0m\u001b[1;33m\u001b[0m\u001b[1;33m\u001b[0m\u001b[0m\n\u001b[0m",
      "\u001b[1;31mKeyError\u001b[0m: 'RIM'"
     ]
    }
   ],
   "source": [
    "stocks[\"RIM\"]"
   ]
  },
  {
   "cell_type": "code",
   "execution_count": 36,
   "metadata": {},
   "outputs": [
    {
     "name": "stdout",
     "output_type": "stream",
     "text": [
      "None\n"
     ]
    }
   ],
   "source": [
    "print(stocks.get(\"KIM\"))"
   ]
  },
  {
   "cell_type": "code",
   "execution_count": 37,
   "metadata": {},
   "outputs": [
    {
     "data": {
      "text/plain": [
       "'Key not found in the stocks dictionaries'"
      ]
     },
     "execution_count": 37,
     "metadata": {},
     "output_type": "execute_result"
    }
   ],
   "source": [
    "stocks.get(\"RIM\", \"Key not found in the stocks dictionaries\")"
   ]
  },
  {
   "cell_type": "code",
   "execution_count": 38,
   "metadata": {},
   "outputs": [
    {
     "data": {
      "text/plain": [
       "(400, 350, 300)"
      ]
     },
     "execution_count": 38,
     "metadata": {},
     "output_type": "execute_result"
    }
   ],
   "source": [
    "stocks.setdefault(\"GOOG\",\"INVALID\")"
   ]
  },
  {
   "cell_type": "code",
   "execution_count": 39,
   "metadata": {},
   "outputs": [
    {
     "data": {
      "text/plain": [
       "(10, 20, 15)"
      ]
     },
     "execution_count": 39,
     "metadata": {},
     "output_type": "execute_result"
    }
   ],
   "source": [
    "stocks.setdefault(\"RIM\", (10,20,15))"
   ]
  },
  {
   "cell_type": "code",
   "execution_count": 40,
   "metadata": {},
   "outputs": [
    {
     "name": "stdout",
     "output_type": "stream",
     "text": [
      "GOOG last value is 400\n",
      "MSFT last value is 30\n",
      "RIM last value is 10\n"
     ]
    }
   ],
   "source": [
    "for stock, values in stocks.items():\n",
    "    print(\"{} last value is {}\".format(stock, values[0]))"
   ]
  },
  {
   "cell_type": "markdown",
   "metadata": {},
   "source": [
    "#### Using defaultdict"
   ]
  },
  {
   "cell_type": "code",
   "execution_count": 42,
   "metadata": {},
   "outputs": [
    {
     "name": "stdout",
     "output_type": "stream",
     "text": [
      "{'S': 2, 'h': 3, 'a': 1, 'i': 2, 'l': 1, 'e': 1, 's': 1, ' ': 2, 'n': 1, 'g': 1}\n"
     ]
    }
   ],
   "source": [
    "def letter_frequency(sentence):\n",
    "    frequencies = {}\n",
    "    for letter in sentence:\n",
    "        frequency = frequencies.setdefault(letter,0)\n",
    "        frequencies[letter] = frequency +1\n",
    "    return frequencies\n",
    "print(letter_frequency(\"Shailesh  Singh\"))"
   ]
  },
  {
   "cell_type": "code",
   "execution_count": 43,
   "metadata": {},
   "outputs": [],
   "source": [
    "#Now lets see using defaultdict"
   ]
  },
  {
   "cell_type": "code",
   "execution_count": 44,
   "metadata": {},
   "outputs": [],
   "source": [
    "from collections import defaultdict"
   ]
  },
  {
   "cell_type": "code",
   "execution_count": 45,
   "metadata": {},
   "outputs": [
    {
     "name": "stdout",
     "output_type": "stream",
     "text": [
      "defaultdict(<class 'int'>, {'S': 2, 'h': 3, 'a': 1, 'i': 2, 'l': 1, 'e': 1, 's': 1, ' ': 2, 'n': 1, 'g': 1})\n"
     ]
    }
   ],
   "source": [
    "def letter_frequency(sentence):\n",
    "    frequencies = defaultdict(int)\n",
    "    for letter in sentence:\n",
    "        frequencies[letter] +=1\n",
    "    return frequencies\n",
    "\n",
    "print(letter_frequency(\"Shailesh  Singh\"))"
   ]
  },
  {
   "cell_type": "markdown",
   "metadata": {},
   "source": [
    "Of course, we can also write our own fuctions and pass them into the defaultdict constructor. Suppose we want to create a defaultdict where each new element contains a tuple of the number of items inserted into the dictionary at that time and an empty list to hold other things. "
   ]
  },
  {
   "cell_type": "code",
   "execution_count": 51,
   "metadata": {},
   "outputs": [],
   "source": [
    "from collections import defaultdict\n",
    "num_items = 0\n",
    "def tuple_counter():\n",
    "    global num_items\n",
    "    num_items +=1\n",
    "    return (num_items, [])\n",
    "\n",
    "d = defaultdict(tuple_counter)"
   ]
  },
  {
   "cell_type": "code",
   "execution_count": 52,
   "metadata": {},
   "outputs": [],
   "source": [
    "d['a'][1].append(\"A\")\n",
    "d['a'][1].append(\"AA\")\n",
    "d['b'][1].append(\"B\")\n",
    "d['c'][1].append(\"C\")"
   ]
  },
  {
   "cell_type": "code",
   "execution_count": 53,
   "metadata": {},
   "outputs": [
    {
     "name": "stdout",
     "output_type": "stream",
     "text": [
      "defaultdict(<function tuple_counter at 0x000001E620474510>, {'a': (1, ['A', 'AA']), 'b': (2, ['B']), 'c': (3, ['C'])})\n"
     ]
    }
   ],
   "source": [
    "print(d)"
   ]
  },
  {
   "cell_type": "markdown",
   "metadata": {},
   "source": [
    "## 3) Lists"
   ]
  },
  {
   "cell_type": "code",
   "execution_count": 54,
   "metadata": {},
   "outputs": [
    {
     "name": "stdout",
     "output_type": "stream",
     "text": [
      "abcdefghijklmnopqrstuvwxyzABCDEFGHIJKLMNOPQRSTUVWXYZ\n"
     ]
    }
   ],
   "source": [
    "import string\n",
    "print(string.ascii_letters)"
   ]
  },
  {
   "cell_type": "code",
   "execution_count": 57,
   "metadata": {},
   "outputs": [
    {
     "name": "stdout",
     "output_type": "stream",
     "text": [
      "['a', 'b', 'c', 'd', 'e', 'f', 'g', 'h', 'i', 'j', 'k', 'l', 'm', 'n', 'o', 'p', 'q', 'r', 's', 't', 'u', 'v', 'w', 'x', 'y', 'z', 'A', 'B', 'C', 'D', 'E', 'F', 'G', 'H', 'I', 'J', 'K', 'L', 'M', 'N', 'O', 'P', 'Q', 'R', 'S', 'T', 'U', 'V', 'W', 'X', 'Y', 'Z', ' ']\n"
     ]
    }
   ],
   "source": [
    "import string\n",
    "CHARACTERS = list(string.ascii_letters)+[\" \"]\n",
    "print(CHARACTERS)\n",
    "def letter_frequency(sentence):\n",
    "    frequencies = [(c,0) for c in CHARACTERS]\n",
    "    for letter in sentence:\n",
    "        index = CHARACTERS.index(letter)\n",
    "        frequencies[index] = (letter, frequencies[index][1]+1)\n",
    "        \n",
    "    return frequencies"
   ]
  },
  {
   "cell_type": "code",
   "execution_count": 58,
   "metadata": {},
   "outputs": [
    {
     "name": "stdout",
     "output_type": "stream",
     "text": [
      "[('a', 1), ('b', 0), ('c', 0), ('d', 0), ('e', 1), ('f', 0), ('g', 1), ('h', 3), ('i', 2), ('j', 0), ('k', 0), ('l', 1), ('m', 0), ('n', 1), ('o', 0), ('p', 0), ('q', 0), ('r', 0), ('s', 1), ('t', 0), ('u', 0), ('v', 0), ('w', 0), ('x', 0), ('y', 0), ('z', 0), ('A', 0), ('B', 0), ('C', 0), ('D', 0), ('E', 0), ('F', 0), ('G', 0), ('H', 0), ('I', 0), ('J', 0), ('K', 0), ('L', 0), ('M', 0), ('N', 0), ('O', 0), ('P', 0), ('Q', 0), ('R', 0), ('S', 2), ('T', 0), ('U', 0), ('V', 0), ('W', 0), ('X', 0), ('Y', 0), ('Z', 0), (' ', 3)]\n"
     ]
    }
   ],
   "source": [
    "print(letter_frequency(\"Shailesh   Singh\"))"
   ]
  },
  {
   "cell_type": "markdown",
   "metadata": {},
   "source": [
    "### Sorting lists"
   ]
  },
  {
   "cell_type": "markdown",
   "metadata": {},
   "source": [
    "Without any parameters, sort will generally do the expected thing.\n",
    "\n",
    "If it's a list of strings, it will place them in alphabetical order. This operations is case sensitive, so all capital letters will be sorted before lower case letters, that is Z comes before a.\n",
    "\n",
    "If it is a list of numbers, they will be sorted in numerical order.\n",
    "\n",
    "If a list of tuples is provided, the list is sorted by the first element in each tuple.\n",
    "\n",
    "If a mixture of unsortable items is supplied, the sort will raise a TypeError exception.\n"
   ]
  },
  {
   "cell_type": "markdown",
   "metadata": {},
   "source": [
    "If we want to place objects we define ourselves into a list and make those objects sortable, we have to do a bit more work. The special method __lt__, which stands for \"less than\", should be defined on the class to make instances of that class comparable. "
   ]
  },
  {
   "cell_type": "code",
   "execution_count": 85,
   "metadata": {},
   "outputs": [
    {
     "data": {
      "text/plain": [
       "[a:4, b:3, c:2, d:1]"
      ]
     },
     "execution_count": 85,
     "metadata": {},
     "output_type": "execute_result"
    }
   ],
   "source": [
    "class WeirdSortee:\n",
    "    def __init__(self, string, number, sort_num):\n",
    "        self.string = string\n",
    "        self.number = number\n",
    "        self.sort_num = sort_num\n",
    "        \n",
    "    def __lt__(self, object):\n",
    "        if self.sort_num:\n",
    "            return self.number < object.number\n",
    "        return self.string < object.string\n",
    "    \n",
    "    def __repr__(self):\n",
    "        return \"{}:{}\".format(self.string, self.number)\n",
    "    \n",
    "a = WeirdSortee('a', 4, True)\n",
    "b = WeirdSortee('b', 3, True)\n",
    "c = WeirdSortee('c', 2, True)\n",
    "d = WeirdSortee('d', 1, True)\n",
    "\n",
    "list_o = [a,b,c,d]\n",
    "\n",
    "list_o"
   ]
  },
  {
   "cell_type": "code",
   "execution_count": 86,
   "metadata": {},
   "outputs": [],
   "source": [
    "list_o.sort()"
   ]
  },
  {
   "cell_type": "code",
   "execution_count": 87,
   "metadata": {},
   "outputs": [
    {
     "data": {
      "text/plain": [
       "[d:1, c:2, b:3, a:4]"
      ]
     },
     "execution_count": 87,
     "metadata": {},
     "output_type": "execute_result"
    }
   ],
   "source": [
    "list_o"
   ]
  },
  {
   "cell_type": "code",
   "execution_count": 88,
   "metadata": {},
   "outputs": [],
   "source": [
    "for i in list_o:\n",
    "    i.sort_num = False"
   ]
  },
  {
   "cell_type": "code",
   "execution_count": 89,
   "metadata": {},
   "outputs": [
    {
     "data": {
      "text/plain": [
       "[d:1, c:2, b:3, a:4]"
      ]
     },
     "execution_count": 89,
     "metadata": {},
     "output_type": "execute_result"
    }
   ],
   "source": [
    "list_o"
   ]
  },
  {
   "cell_type": "code",
   "execution_count": 90,
   "metadata": {},
   "outputs": [],
   "source": [
    "list_o.sort()"
   ]
  },
  {
   "cell_type": "code",
   "execution_count": 91,
   "metadata": {},
   "outputs": [
    {
     "data": {
      "text/plain": [
       "[a:4, b:3, c:2, d:1]"
      ]
     },
     "execution_count": 91,
     "metadata": {},
     "output_type": "execute_result"
    }
   ],
   "source": [
    "list_o"
   ]
  },
  {
   "cell_type": "code",
   "execution_count": null,
   "metadata": {},
   "outputs": [],
   "source": []
  },
  {
   "cell_type": "code",
   "execution_count": null,
   "metadata": {},
   "outputs": [],
   "source": []
  },
  {
   "cell_type": "markdown",
   "metadata": {},
   "source": [
    "## 4) Sets"
   ]
  },
  {
   "cell_type": "markdown",
   "metadata": {},
   "source": [
    "Lists are extremly versatile tools that suit most container object applications. But they are not useful when we want to ensure objects in the list are unique.\n",
    "\n",
    "**Sets come from mathmematics, where they represent as unordered group of (usaully) unique numbers. We can add a number to a set five times, but it will show up in the set only once.**\n",
    "\n"
   ]
  },
  {
   "cell_type": "code",
   "execution_count": 92,
   "metadata": {},
   "outputs": [],
   "source": [
    "tuples = (1,2,3 ,2,3,4,5,6,2,3,4,5)"
   ]
  },
  {
   "cell_type": "code",
   "execution_count": 93,
   "metadata": {},
   "outputs": [
    {
     "data": {
      "text/plain": [
       "{1, 2, 3, 4, 5, 6}"
      ]
     },
     "execution_count": 93,
     "metadata": {},
     "output_type": "execute_result"
    }
   ],
   "source": [
    "set_t = set(tuples)\n",
    "set_t"
   ]
  },
  {
   "cell_type": "code",
   "execution_count": null,
   "metadata": {},
   "outputs": [],
   "source": [
    "\n",
    "\n"
   ]
  },
  {
   "cell_type": "markdown",
   "metadata": {},
   "source": [
    "# Extending built-ins"
   ]
  },
  {
   "cell_type": "code",
   "execution_count": 96,
   "metadata": {},
   "outputs": [],
   "source": [
    "class SillyInt(int):\n",
    "    def __add__(self, num):\n",
    "        return self*num"
   ]
  },
  {
   "cell_type": "code",
   "execution_count": 97,
   "metadata": {},
   "outputs": [
    {
     "name": "stdout",
     "output_type": "stream",
     "text": [
      "6\n"
     ]
    }
   ],
   "source": [
    "a = SillyInt(2)\n",
    "b = SillyInt(3)\n",
    "print(a+b)"
   ]
  },
  {
   "cell_type": "code",
   "execution_count": 99,
   "metadata": {},
   "outputs": [],
   "source": [
    "class SillyInt(int):\n",
    "    def __add__(self, num):\n",
    "        return 0"
   ]
  },
  {
   "cell_type": "code",
   "execution_count": 100,
   "metadata": {},
   "outputs": [
    {
     "name": "stdout",
     "output_type": "stream",
     "text": [
      "0\n"
     ]
    }
   ],
   "source": [
    "a = SillyInt(2)\n",
    "b = SillyInt(3)\n",
    "print(a+b)"
   ]
  },
  {
   "cell_type": "code",
   "execution_count": 106,
   "metadata": {},
   "outputs": [
    {
     "name": "stdout",
     "output_type": "stream",
     "text": [
      "['__add__', '__class__', '__contains__', '__delattr__', '__delitem__', '__dir__', '__doc__', '__eq__', '__format__', '__ge__', '__getattribute__', '__getitem__', '__gt__', '__hash__', '__iadd__', '__imul__', '__init__', '__init_subclass__', '__iter__', '__le__', '__len__', '__lt__', '__mul__', '__ne__', '__new__', '__reduce__', '__reduce_ex__', '__repr__', '__reversed__', '__rmul__', '__setattr__', '__setitem__', '__sizeof__', '__str__', '__subclasshook__', 'append', 'clear', 'copy', 'count', 'extend', 'index', 'insert', 'pop', 'remove', 'reverse', 'sort']\n"
     ]
    },
    {
     "data": {
      "text/plain": [
       "46"
      ]
     },
     "execution_count": 106,
     "metadata": {},
     "output_type": "execute_result"
    }
   ],
   "source": [
    "print(dir(list))\n",
    "len(dir(list))"
   ]
  },
  {
   "cell_type": "code",
   "execution_count": 108,
   "metadata": {},
   "outputs": [
    {
     "name": "stdout",
     "output_type": "stream",
     "text": [
      "['__abs__', '__add__', '__and__', '__bool__', '__ceil__', '__class__', '__delattr__', '__dir__', '__divmod__', '__doc__', '__eq__', '__float__', '__floor__', '__floordiv__', '__format__', '__ge__', '__getattribute__', '__getnewargs__', '__gt__', '__hash__', '__index__', '__init__', '__init_subclass__', '__int__', '__invert__', '__le__', '__lshift__', '__lt__', '__mod__', '__mul__', '__ne__', '__neg__', '__new__', '__or__', '__pos__', '__pow__', '__radd__', '__rand__', '__rdivmod__', '__reduce__', '__reduce_ex__', '__repr__', '__rfloordiv__', '__rlshift__', '__rmod__', '__rmul__', '__ror__', '__round__', '__rpow__', '__rrshift__', '__rshift__', '__rsub__', '__rtruediv__', '__rxor__', '__setattr__', '__sizeof__', '__str__', '__sub__', '__subclasshook__', '__truediv__', '__trunc__', '__xor__', 'bit_length', 'conjugate', 'denominator', 'from_bytes', 'imag', 'numerator', 'real', 'to_bytes']\n"
     ]
    }
   ],
   "source": [
    "print(dir(int))"
   ]
  },
  {
   "cell_type": "code",
   "execution_count": 107,
   "metadata": {},
   "outputs": [
    {
     "name": "stdout",
     "output_type": "stream",
     "text": [
      "Help on wrapper_descriptor:\n",
      "\n",
      "__add__(self, value, /)\n",
      "    Return self+value.\n",
      "\n"
     ]
    }
   ],
   "source": [
    "help(list.__add__)"
   ]
  },
  {
   "cell_type": "code",
   "execution_count": null,
   "metadata": {},
   "outputs": [],
   "source": []
  },
  {
   "cell_type": "code",
   "execution_count": 140,
   "metadata": {},
   "outputs": [],
   "source": [
    "python_dict = {}\n",
    "python_dict['a'] = 1\n",
    "python_dict['b'] = 2\n",
    "\n",
    "python_dict.setdefault('c',3)\n",
    "python_dict['b'] = 2"
   ]
  },
  {
   "cell_type": "code",
   "execution_count": null,
   "metadata": {},
   "outputs": [],
   "source": []
  },
  {
   "cell_type": "code",
   "execution_count": 141,
   "metadata": {},
   "outputs": [
    {
     "name": "stdout",
     "output_type": "stream",
     "text": [
      "a 1\n",
      "b 2\n",
      "c 3\n"
     ]
    }
   ],
   "source": [
    "for k,v in python_dict.items():\n",
    "    print(k,v)"
   ]
  },
  {
   "cell_type": "markdown",
   "metadata": {},
   "source": [
    "# Python built-in functions"
   ]
  },
  {
   "cell_type": "code",
   "execution_count": 142,
   "metadata": {},
   "outputs": [
    {
     "data": {
      "text/plain": [
       "4"
      ]
     },
     "execution_count": 142,
     "metadata": {},
     "output_type": "execute_result"
    }
   ],
   "source": [
    "len([1,2,3,4])"
   ]
  },
  {
   "cell_type": "code",
   "execution_count": 143,
   "metadata": {},
   "outputs": [],
   "source": [
    "# Reversed()"
   ]
  },
  {
   "cell_type": "code",
   "execution_count": 144,
   "metadata": {},
   "outputs": [
    {
     "name": "stdout",
     "output_type": "stream",
     "text": [
      "\n",
      "list:5, 4, 3, 2, 1, \n",
      "CustomSequence:x4, x3, x2, x1, x0, \n",
      "FunkyBackwards:B, A, C, K, W, A, R, D, S, !, "
     ]
    }
   ],
   "source": [
    "normal_list = [1,2,3,4,5]\n",
    "class CustomSequence():\n",
    "    def __len__(self):\n",
    "        return 5\n",
    "    def __getitem__(self, index):\n",
    "        return \"x{0}\".format(index)\n",
    "    \n",
    "class FunkyBackwards(CustomSequence):\n",
    "    def __reversed__(self):\n",
    "        return \"BACKWARDS!\"\n",
    "    \n",
    "for seq in normal_list, CustomSequence(), FunkyBackwards():\n",
    "    print(\"\\n{}:\".format(seq.__class__.__name__), end=\"\")\n",
    "    for item in reversed(seq):\n",
    "        print(item, end=\", \")"
   ]
  },
  {
   "cell_type": "markdown",
   "metadata": {},
   "source": [
    "#### Enumerate"
   ]
  },
  {
   "cell_type": "code",
   "execution_count": 145,
   "metadata": {},
   "outputs": [
    {
     "name": "stdout",
     "output_type": "stream",
     "text": [
      "1:first line\n",
      "2:second line\n",
      "3:third line\n"
     ]
    }
   ],
   "source": [
    "#import sys\n",
    "filename = \"test.txt\"\n",
    "\n",
    "with open(filename) as file:\n",
    "    for index, line in enumerate(file):\n",
    "        print(\"{0}:{1}\".format(index+1, line), end=\"\")"
   ]
  },
  {
   "cell_type": "code",
   "execution_count": 148,
   "metadata": {},
   "outputs": [
    {
     "name": "stdout",
     "output_type": "stream",
     "text": [
      "[('a', 1), ('b', 2), ('c', 3)]\n"
     ]
    }
   ],
   "source": [
    "list_one = ['a', 'b', 'c']\n",
    "list_two = [1, 2, 3]\n",
    "\n",
    "zipped = zip(list_one, list_two)\n",
    "\n",
    "zipped = list(zipped)\n",
    "print(zipped)"
   ]
  },
  {
   "cell_type": "code",
   "execution_count": 149,
   "metadata": {},
   "outputs": [
    {
     "data": {
      "text/plain": [
       "[('a', 'b', 'c'), (1, 2, 3)]"
      ]
     },
     "execution_count": 149,
     "metadata": {},
     "output_type": "execute_result"
    }
   ],
   "source": [
    "unzipped = zip(*zipped)\n",
    "list(unzipped)"
   ]
  },
  {
   "cell_type": "markdown",
   "metadata": {},
   "source": [
    "### min, max and sum"
   ]
  },
  {
   "cell_type": "code",
   "execution_count": 160,
   "metadata": {},
   "outputs": [],
   "source": [
    "def min_max_indexes(seq):\n",
    "    minimum = min(enumerate(seq), key=lambda s: s[1]) \n",
    "    #enumerate will give us the tuples of (index, value) \n",
    "    #so s = (index,value) and s[1] means calculate min based on second item in tuple\n",
    "    #in min method we can specify the key and here we are using lambda function to specify the key\n",
    "    maximum = max(enumerate(seq), key=lambda s: s[1])\n",
    "    \n",
    "    return minimum[0], maximum[0]\n",
    "    "
   ]
  },
  {
   "cell_type": "code",
   "execution_count": 161,
   "metadata": {},
   "outputs": [
    {
     "data": {
      "text/plain": [
       "(1, 6)"
      ]
     },
     "execution_count": 161,
     "metadata": {},
     "output_type": "execute_result"
    }
   ],
   "source": [
    "alist = [5,0,1,4,6,3,10,9]\n",
    "min_max_indexes(alist)"
   ]
  },
  {
   "cell_type": "markdown",
   "metadata": {},
   "source": [
    "### eval, exec and compile"
   ]
  },
  {
   "cell_type": "code",
   "execution_count": 162,
   "metadata": {},
   "outputs": [
    {
     "name": "stdout",
     "output_type": "stream",
     "text": [
      "7\n"
     ]
    }
   ],
   "source": [
    "eval(\"print(2+5)\")"
   ]
  },
  {
   "cell_type": "code",
   "execution_count": 168,
   "metadata": {},
   "outputs": [
    {
     "data": {
      "text/plain": [
       "3"
      ]
     },
     "execution_count": 168,
     "metadata": {},
     "output_type": "execute_result"
    }
   ],
   "source": [
    "exec(\"a = min([12,22,3,4,5])\")\n",
    "a"
   ]
  },
  {
   "cell_type": "markdown",
   "metadata": {},
   "source": [
    "Supporting the iterable protocol simply means an object has an `__iter__` method that returns another object that supports the iterator protocol. Supporting the iterator protocol is a fancy way of saying it has a `__next__` method that either returns the next object in the sequence, or raises a StopIteration exception when all objects have been returned."
   ]
  },
  {
   "cell_type": "markdown",
   "metadata": {},
   "source": [
    "# Comprehensions"
   ]
  },
  {
   "cell_type": "markdown",
   "metadata": {},
   "source": [
    "### List Comprehension example"
   ]
  },
  {
   "cell_type": "code",
   "execution_count": 175,
   "metadata": {},
   "outputs": [
    {
     "name": "stdout",
     "output_type": "stream",
     "text": [
      "[1, 5, 28, 131, 3]\n"
     ]
    }
   ],
   "source": [
    "input_strings = ['1', '5', '28', '131', '3']\n",
    "output_int = []\n",
    "for num in input_strings:\n",
    "    output_int.append(int(num))\n",
    "    \n",
    "print(output_int)"
   ]
  },
  {
   "cell_type": "markdown",
   "metadata": {},
   "source": [
    "This works fine, it's only three lines of code. If you aren't used to comprehensions, you may not even think it looks ugly! Now, look at the same code using a list comprehension:"
   ]
  },
  {
   "cell_type": "code",
   "execution_count": 176,
   "metadata": {},
   "outputs": [
    {
     "data": {
      "text/plain": [
       "[1, 5, 28, 131, 3]"
      ]
     },
     "execution_count": 176,
     "metadata": {},
     "output_type": "execute_result"
    }
   ],
   "source": [
    "input_strings = ['1', '5', '28', '131', '3']\n",
    "output_int = [int(num) for num in input_strings]\n",
    "output_int"
   ]
  },
  {
   "cell_type": "code",
   "execution_count": 179,
   "metadata": {},
   "outputs": [
    {
     "name": "stdout",
     "output_type": "stream",
     "text": [
      "[1, 25, 784, 17161, 9]\n",
      "[0.5, 2.5, 14.0, 65.5, 1.5]\n"
     ]
    }
   ],
   "source": [
    "# we can do operations to\n",
    "input_strings = ['1', '5', '28', '131', '3']\n",
    "output_int = [int(num)*int(num) for num in input_strings]\n",
    "print(output_int)\n",
    "\n",
    "# Each element dividing by 2\n",
    "input_strings = ['1', '5', '28', '131', '3']\n",
    "output_int = [int(num)/2 for num in input_strings]\n",
    "print(output_int)"
   ]
  },
  {
   "cell_type": "markdown",
   "metadata": {},
   "source": [
    "Converting one list of items into a related list isn't the only thing we can do with a list comprehension. We can also choose to exclude certain values by adding if statement inside the comprehension."
   ]
  },
  {
   "cell_type": "code",
   "execution_count": 181,
   "metadata": {},
   "outputs": [
    {
     "data": {
      "text/plain": [
       "[1, 5, 28, 3]"
      ]
     },
     "execution_count": 181,
     "metadata": {},
     "output_type": "execute_result"
    }
   ],
   "source": [
    "input_strings = ['1', '5', '28', '131', '3']\n",
    "output_int = [int(num) for num in input_strings if len(num) <3]\n",
    "output_int"
   ]
  },
  {
   "cell_type": "markdown",
   "metadata": {},
   "source": [
    "### Set and Dictionary comprehensions"
   ]
  },
  {
   "cell_type": "code",
   "execution_count": 187,
   "metadata": {},
   "outputs": [
    {
     "name": "stdout",
     "output_type": "stream",
     "text": [
      "{'Pratchett5', 'Pratchett2', 'Pratchett4', 'Pratchett'}\n"
     ]
    }
   ],
   "source": [
    "from collections import namedtuple\n",
    "Book =  namedtuple(\"Book\", \"author title genre\")\n",
    "books = [\n",
    "    Book(\"Pratchett\", \"Nightwatch\", \"fantacy\"),\n",
    "    Book(\"Pratchett2\", \"Nightwatch2\", \"fantacy\"),\n",
    "    Book(\"Pratchett3\", \"Nightwatch3\", \"scifi\"),\n",
    "    Book(\"Pratchett4\", \"Nightwatch4\", \"fantacy\"),\n",
    "    Book(\"Pratchett5\", \"Nightwatch5\", \"fantacy\"),\n",
    "    Book(\"Pratchett6\", \"Nightwatch6\", \"wester\"),\n",
    "    Book(\"Pratchett7\", \"Nightwatch7\", \"scifi\")\n",
    "]\n",
    "\n",
    "fantacy_authors = {b.author for b in books if b.genre == 'fantacy'}\n",
    "\n",
    "print(fantacy_authors)\n"
   ]
  },
  {
   "cell_type": "code",
   "execution_count": 188,
   "metadata": {},
   "outputs": [
    {
     "data": {
      "text/plain": [
       "{'Nightwatch': Book(author='Pratchett', title='Nightwatch', genre='fantacy'),\n",
       " 'Nightwatch2': Book(author='Pratchett2', title='Nightwatch2', genre='fantacy'),\n",
       " 'Nightwatch4': Book(author='Pratchett4', title='Nightwatch4', genre='fantacy'),\n",
       " 'Nightwatch5': Book(author='Pratchett5', title='Nightwatch5', genre='fantacy')}"
      ]
     },
     "execution_count": 188,
     "metadata": {},
     "output_type": "execute_result"
    }
   ],
   "source": [
    "fantacy_titles = {b.title:b for b in books if b.genre == 'fantacy'}\n",
    "fantacy_titles"
   ]
  },
  {
   "cell_type": "markdown",
   "metadata": {},
   "source": [
    "## Generator vs Comprehension"
   ]
  },
  {
   "cell_type": "markdown",
   "metadata": {},
   "source": [
    "**Log file processing example, to differentiate between generator and comprehension**\n",
    "\n",
    "Log files for popular web servers, databases, or e-mail servers can contain many gigabytes of data. If we want to process each line in the log, we don't want to use a list **comprehension** on those lines; it would create a list containing every line in the file. This would not fit in memory and could bring the computer to its knees, depending on the operating system.\n",
    "\n",
    "If we used a `for` loop on the log file, we could process one line at a time before reading the next one into memory. Wouldn't be nice if we could use comprehension syntax to get the same effect?\n",
    "\n",
    "This is where generator expressions come in. They use the same syntax as comprehensions, but they don't create a final container object. To create a generator expression, wrap the comprehension in () instead of [] or {}.\n",
    "\n",
    "\n",
    "**Example**:\n",
    "```\n",
    "import sys\n",
    "inname = sys.argv[1]\n",
    "outname = sys.argv[2]\n",
    "with open(inname) as infile:\n",
    "    with open(outname, \"w\") as outfile:\n",
    "        #fetch all warnings\n",
    "        warnings = (line for line in infile if 'WARNING' in line) # Notice the ()\n",
    "        #write all warnings into the file\n",
    "        for line in warnings:\n",
    "            outfile.write(line)\n",
    "            \n",
    "```\n"
   ]
  },
  {
   "cell_type": "markdown",
   "metadata": {},
   "source": [
    "# Method Overloading"
   ]
  },
  {
   "cell_type": "code",
   "execution_count": null,
   "metadata": {},
   "outputs": [],
   "source": []
  }
 ],
 "metadata": {
  "kernelspec": {
   "display_name": "Python 3",
   "language": "python",
   "name": "python3"
  },
  "language_info": {
   "codemirror_mode": {
    "name": "ipython",
    "version": 3
   },
   "file_extension": ".py",
   "mimetype": "text/x-python",
   "name": "python",
   "nbconvert_exporter": "python",
   "pygments_lexer": "ipython3",
   "version": "3.7.1"
  }
 },
 "nbformat": 4,
 "nbformat_minor": 2
}
