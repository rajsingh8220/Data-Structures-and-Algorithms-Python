{
 "cells": [
  {
   "cell_type": "markdown",
   "metadata": {},
   "source": [
    "# Knapsack Problem\n",
    "## Two variants\n",
    "- 0/1 knapsack problem\n",
    "- Continuous or fractional knapsack problem\n"
   ]
  },
  {
   "cell_type": "markdown",
   "metadata": {},
   "source": [
    "## 0/1 Knapsack Problem, \n",
    "- Each item is represented by a pair, <value, weight>\n",
    "- The knapsack can accommodate items with a total weight of no more then w\n",
    "- a vector, L, of length n, represents the set of avalable items. Each element if the is an item\n",
    "- A vetor, V, of length n, is used to indicate whether or not items are taken. \n",
    "```\n",
    "if V[i] = 1, item I[i] is taken.\n",
    "if V[i] = 0, item I[i] is not taken\n",
    "```\n",
    "\n",
    "### Solution1: Brute Force Algorithm\n",
    "1. Enumerate all possible combinations of items. That is to say, generate all subsets of the set of items. this is called the power set.\n",
    "\n",
    "2. Remove all of the combinations whose total units exceeds the allowed weight.\n",
    "\n",
    "3. From the remaining combinations choose any one whose value is the largest.\n",
    "\n",
    "0/1 knapsack problem is inherently exponential, brute force will not work.\n"
   ]
  },
  {
   "cell_type": "markdown",
   "metadata": {},
   "source": [
    "### Solution2: Greedy Algorith a practical Alternative\n",
    "- while knapsack not full\n",
    "    put \"best\" available item in knapsack\n",
    "##### Example Problem\n",
    "- You are about to sit down to a meal\n",
    "- You know how much you value different foods, e.g., you like donuts more than apples\n",
    "- But you have a calorie budget, e.g., you don't want to consume more than 750 calories\n",
    "- Choosing what to eat is a knapsack problem\n",
    "\n",
    "Foods,\n",
    "\n",
    "<table>\n",
    "    <tr>\n",
    "        <th>Food</th>\n",
    "        <th>wine</th>\n",
    "        <th>beer</th>\n",
    "        <th>pizza</th>\n",
    "        <th>burger</th>\n",
    "        <th>fries</th>\n",
    "        <th>coke</th>\n",
    "        <th>apple</th>\n",
    "        <th>donut</th>\n",
    "        \n",
    "    </tr>\n",
    "    <tr>\n",
    "        <td>Value</td>\n",
    "        <td>89</td>\n",
    "        <td>90</td>\n",
    "        <td>30</td>\n",
    "        <td>50</td>\n",
    "        <td>90</td>\n",
    "        <td>79</td>\n",
    "        <td>90</td>\n",
    "        <td>10</td>\n",
    "    </tr>\n",
    "    <tr>\n",
    "        <td>calories</td>\n",
    "        <td>123</td>\n",
    "        <td>154</td>\n",
    "        <td>258</td>\n",
    "        <td>354</td>\n",
    "        <td>365</td>\n",
    "        <td>150</td>\n",
    "        <td>95</td>\n",
    "        <td>195</td>\n",
    "    </tr>\n",
    "</table>"
   ]
  },
  {
   "cell_type": "code",
   "execution_count": 13,
   "metadata": {},
   "outputs": [],
   "source": [
    "class Food(object):\n",
    "    def __init__(self,n, v, w):\n",
    "        self.name = n\n",
    "        self.value = v\n",
    "        self.calories = w\n",
    "    def getValue(self):\n",
    "        return self.value\n",
    "    \n",
    "    def getCost(self):\n",
    "        return self.calories\n",
    "    \n",
    "    def density(self):\n",
    "        return self.getValue()/self.Cost()\n",
    "    \n",
    "    def __str__(self):\n",
    "        return self.name+\": <value: \" +str(self.value)+', Calories: '+str(self.calories)+'>'"
   ]
  },
  {
   "cell_type": "code",
   "execution_count": 14,
   "metadata": {},
   "outputs": [],
   "source": [
    "## menu will have list of Food objects\n",
    "def buildMenu(names, values, calories):\n",
    "    \"\"\"names, values, calories lists of same length.\n",
    "    name a list of strings\n",
    "    values and calories lists of numbers\n",
    "    returns list of Foods\"\"\"\n",
    "    menu = []\n",
    "    for i in range(len(values)):\n",
    "        menu.append(Food(names[i], values[i],calories[i]))\n",
    "    return menu"
   ]
  },
  {
   "cell_type": "code",
   "execution_count": 15,
   "metadata": {},
   "outputs": [],
   "source": [
    "names = ['wine', 'beer', 'pizza', 'burger', 'fries', 'coke', 'apple', 'donut']\n",
    "values = [89,90,30,50,90,79,90,10]\n",
    "calories = [123,154,258,354,365,150,95,195]\n",
    "\n",
    "menu = buildMenu(names, values, calories)\n"
   ]
  },
  {
   "cell_type": "code",
   "execution_count": 16,
   "metadata": {},
   "outputs": [
    {
     "name": "stdout",
     "output_type": "stream",
     "text": [
      "wine: <value: 89, Calories: 123>\n",
      "beer: <value: 90, Calories: 154>\n",
      "pizza: <value: 30, Calories: 258>\n",
      "burger: <value: 50, Calories: 354>\n",
      "fries: <value: 90, Calories: 365>\n",
      "coke: <value: 79, Calories: 150>\n",
      "apple: <value: 90, Calories: 95>\n",
      "donut: <value: 10, Calories: 195>\n"
     ]
    }
   ],
   "source": [
    "for food in menu:\n",
    "    print(food)"
   ]
  },
  {
   "cell_type": "code",
   "execution_count": 18,
   "metadata": {},
   "outputs": [],
   "source": [
    "#Implementation of Flexible Greedy\n",
    "\n",
    "def greedy(items, maxCost, keyFunction):\n",
    "    \"\"\"Assume items a list, maxCost >=0, keyFunstion maps elements of items to numbers\"\"\"\n",
    "    itemsCopy = sorted(items, key=keyFunction, reverse = True)\n",
    "    result = []\n",
    "    totalValue, totalCost = 0.0, 0.0\n",
    "    \n",
    "    for i in range(len(itemsCopy)):\n",
    "        if(totalCost+itemsCopy[i].getCost()) <= maxCost:\n",
    "            result.append(itemsCopy[i])\n",
    "            totalCost += itemsCopy[i].getCost()\n",
    "            totalValue += itemsCopy[i].getValue()\n",
    "            \n",
    "    return (result, totalValue)"
   ]
  },
  {
   "cell_type": "markdown",
   "metadata": {},
   "source": [
    "#### Pros and Cons of Greedy\n",
    "- Easy to implement\n",
    "- computationally efficient\n",
    "\n",
    "- But does not always yield the best solution\n",
    "    - Dont even know how good the approximation is\n"
   ]
  },
  {
   "cell_type": "markdown",
   "metadata": {},
   "source": [
    "### Solution3 : Search tree Implementation\n",
    "    But search tree with dynamic programming would be the betst solution\n",
    "    "
   ]
  },
  {
   "cell_type": "code",
   "execution_count": null,
   "metadata": {},
   "outputs": [],
   "source": []
  }
 ],
 "metadata": {
  "kernelspec": {
   "display_name": "Python 3",
   "language": "python",
   "name": "python3"
  },
  "language_info": {
   "codemirror_mode": {
    "name": "ipython",
    "version": 3
   },
   "file_extension": ".py",
   "mimetype": "text/x-python",
   "name": "python",
   "nbconvert_exporter": "python",
   "pygments_lexer": "ipython3",
   "version": "3.6.5"
  }
 },
 "nbformat": 4,
 "nbformat_minor": 2
}
