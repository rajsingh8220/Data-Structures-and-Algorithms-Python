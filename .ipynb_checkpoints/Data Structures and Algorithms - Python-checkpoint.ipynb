{
 "cells": [
  {
   "cell_type": "markdown",
   "metadata": {},
   "source": [
    "## 1. Linear Search\n",
    "#### Algorithm\n",
    "```\n",
    "position <- 0\n",
    "found <- False\n",
    "while position < len(List) and not found:\n",
    "    if List[position] = item:\n",
    "        found <- True\n",
    "    position <- position + 1\n",
    "```\n",
    "#### Code"
   ]
  },
  {
   "cell_type": "code",
   "execution_count": 4,
   "metadata": {},
   "outputs": [],
   "source": [
    "def linearSearch(myItem, myList):\n",
    "    found = False\n",
    "    found_at = 0\n",
    "    i = 0\n",
    "    while i < len(myList) and not found:\n",
    "        if(myItem == myList[i]):\n",
    "            found = True\n",
    "            found_at = i;\n",
    "        i += 1\n",
    "    \n",
    "    return found, found_at"
   ]
  },
  {
   "cell_type": "code",
   "execution_count": 5,
   "metadata": {},
   "outputs": [
    {
     "name": "stdout",
     "output_type": "stream",
     "text": [
      "(True, 7)\n"
     ]
    }
   ],
   "source": [
    "a_list = [10,29,1,2,3,45,5,6]\n",
    "print(linearSearch(6,a_list))"
   ]
  },
  {
   "cell_type": "markdown",
   "metadata": {},
   "source": [
    "## 2. Binary Search\n",
    "The binary search is used to find an item in an ORDERED list.\n",
    "\n",
    "```\n",
    "2, 5, 7, 12, 14, 21, 28, 31, 36\n",
    "```\n",
    "#### Algorithm\n",
    "```\n",
    "Found <- False\n",
    "while not Found and first <= top\n",
    "    Midpoint <- (First + Last) DIV 2\n",
    "    If List[Midpoint] = ItemSought Then\n",
    "        ItemFound <- True\n",
    "    Else\n",
    "        If First >= Last Then\n",
    "            SearchFailed <- True\n",
    "        Else\n",
    "            If List[Midpoint] > ItemSought Then\n",
    "                Last <- Midpoint - 1\n",
    "            Else\n",
    "                First <- Midpoint + 1\n",
    "            EndIf\n",
    "        EndIf\n",
    "    EndIf\n",
    "```"
   ]
  },
  {
   "cell_type": "code",
   "execution_count": 13,
   "metadata": {},
   "outputs": [],
   "source": [
    "def binarySearch(myItem, myList):\n",
    "    found = False\n",
    "    bottom = 0\n",
    "    top = len(myList)-1\n",
    "    number_of_iteration = 0\n",
    "    while bottom <= top and not found:\n",
    "        number_of_iteration += 1\n",
    "        middle = (bottom+top)//2\n",
    "        if myList[middle]==myItem:\n",
    "            found = True\n",
    "        elif myList[middle] < myItem:\n",
    "            bottom = middle+1\n",
    "        else:\n",
    "            top = middle-1\n",
    "    return found, middle, number_of_iteration"
   ]
  },
  {
   "cell_type": "code",
   "execution_count": 14,
   "metadata": {},
   "outputs": [
    {
     "name": "stdout",
     "output_type": "stream",
     "text": [
      "(True, 8, 4)\n"
     ]
    }
   ],
   "source": [
    "a_list = [2, 5, 7, 12, 14, 21, 28, 31, 36]\n",
    "search = 36\n",
    "print(binarySearch(search,a_list))"
   ]
  },
  {
   "cell_type": "markdown",
   "metadata": {},
   "source": [
    "## 3. Bubble Sort\n",
    "```\n",
    "12, 5, 7, 18, 11, 6, 12, 4, 17, 1\n",
    "```\n",
    "\n",
    "#### Algorithm\n",
    "```\n",
    "Repeat\n",
    "    X ← StartofArray\n",
    "    Flag ← False\n",
    "    Repeat\n",
    "        If Number(X) > Number (X+ 1) Then\n",
    "            Temp ← Number(X)\n",
    "            Number (X) ← Number (X+ 1)\n",
    "            Number(X+I) ← Temp\n",
    "            Flag ← True\n",
    "        End If\n",
    "        X ← X+1\n",
    "    Until EndofArray\n",
    "Until Flag = False\n",
    "```"
   ]
  },
  {
   "cell_type": "code",
   "execution_count": 18,
   "metadata": {},
   "outputs": [
    {
     "name": "stdout",
     "output_type": "stream",
     "text": [
      "[1, 4, 5, 6, 7, 11, 12, 12, 17, 18]\n"
     ]
    }
   ],
   "source": [
    "def bubbleSort(myList):\n",
    "    moreSwaps = True\n",
    "    while moreSwaps:\n",
    "        moreSwaps = False\n",
    "        for element in range(len(myList)-1):\n",
    "            if myList[element] > myList[element+1]:\n",
    "                #Swap\n",
    "                temp = myList[element+1]\n",
    "                myList[element+1] = myList[element] \n",
    "                myList[element] = temp\n",
    "                moreSwaps = True\n",
    "                \n",
    "    return myList\n",
    "\n",
    "\n",
    "                \n",
    "a_list = [12, 5, 7, 18, 11, 6, 12, 4, 17, 1]\n",
    "print(bubbleSort(a_list))"
   ]
  },
  {
   "cell_type": "code",
   "execution_count": null,
   "metadata": {},
   "outputs": [],
   "source": []
  }
 ],
 "metadata": {
  "kernelspec": {
   "display_name": "Python 3",
   "language": "python",
   "name": "python3"
  },
  "language_info": {
   "codemirror_mode": {
    "name": "ipython",
    "version": 3
   },
   "file_extension": ".py",
   "mimetype": "text/x-python",
   "name": "python",
   "nbconvert_exporter": "python",
   "pygments_lexer": "ipython3",
   "version": "3.6.5"
  }
 },
 "nbformat": 4,
 "nbformat_minor": 2
}
