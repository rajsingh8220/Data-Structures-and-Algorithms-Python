{
 "cells": [
  {
   "cell_type": "markdown",
   "metadata": {},
   "source": [
    "## 1. Linear Search\n",
    "#### Algorithm\n",
    "```\n",
    "position <- 0\n",
    "found <- False\n",
    "while position < len(List) and not found:\n",
    "    if List[position] = item:\n",
    "        found <- True\n",
    "    position <- position + 1\n",
    "```\n",
    "#### Code"
   ]
  },
  {
   "cell_type": "code",
   "execution_count": 4,
   "metadata": {},
   "outputs": [],
   "source": [
    "def linearSearch(myItem, myList):\n",
    "    found = False\n",
    "    found_at = 0\n",
    "    i = 0\n",
    "    while i < len(myList) and not found:\n",
    "        if(myItem == myList[i]):\n",
    "            found = True\n",
    "            found_at = i;\n",
    "        i += 1\n",
    "    \n",
    "    return found, found_at"
   ]
  },
  {
   "cell_type": "code",
   "execution_count": 5,
   "metadata": {},
   "outputs": [
    {
     "name": "stdout",
     "output_type": "stream",
     "text": [
      "(True, 7)\n"
     ]
    }
   ],
   "source": [
    "a_list = [10,29,1,2,3,45,5,6]\n",
    "print(linearSearch(6,a_list))"
   ]
  },
  {
   "cell_type": "markdown",
   "metadata": {},
   "source": [
    "## 2. Binary Search\n",
    "The binary search is used to find an item in an ORDERED list.\n",
    "\n",
    "```\n",
    "2, 5, 7, 12, 14, 21, 28, 31, 36\n",
    "```\n",
    "#### Algorithm\n",
    "```\n",
    "Found <- False\n",
    "while not Found and first <= top\n",
    "    Midpoint <- (First + Last) DIV 2\n",
    "    If List[Midpoint] = ItemSought Then\n",
    "        ItemFound <- True\n",
    "    Else\n",
    "        If First >= Last Then\n",
    "            SearchFailed <- True\n",
    "        Else\n",
    "            If List[Midpoint] > ItemSought Then\n",
    "                Last <- Midpoint - 1\n",
    "            Else\n",
    "                First <- Midpoint + 1\n",
    "            EndIf\n",
    "        EndIf\n",
    "    EndIf\n",
    "```"
   ]
  },
  {
   "cell_type": "code",
   "execution_count": 13,
   "metadata": {},
   "outputs": [],
   "source": [
    "def binarySearch(myItem, myList):\n",
    "    found = False\n",
    "    bottom = 0\n",
    "    top = len(myList)-1\n",
    "    number_of_iteration = 0\n",
    "    while bottom <= top and not found:\n",
    "        number_of_iteration += 1\n",
    "        middle = (bottom+top)//2\n",
    "        if myList[middle]==myItem:\n",
    "            found = True\n",
    "        elif myList[middle] < myItem:\n",
    "            bottom = middle+1\n",
    "        else:\n",
    "            top = middle-1\n",
    "    return found, middle, number_of_iteration"
   ]
  },
  {
   "cell_type": "code",
   "execution_count": 14,
   "metadata": {},
   "outputs": [
    {
     "name": "stdout",
     "output_type": "stream",
     "text": [
      "(True, 8, 4)\n"
     ]
    }
   ],
   "source": [
    "a_list = [2, 5, 7, 12, 14, 21, 28, 31, 36]\n",
    "search = 36\n",
    "print(binarySearch(search,a_list))"
   ]
  },
  {
   "cell_type": "markdown",
   "metadata": {},
   "source": [
    "## 3. Bubble Sort\n",
    "```\n",
    "12, 5, 7, 18, 11, 6, 12, 4, 17, 1\n",
    "```\n",
    "\n",
    "#### Algorithm\n",
    "```\n",
    "Repeat\n",
    "    X ← StartofArray\n",
    "    Flag ← False\n",
    "    Repeat\n",
    "        If Number(X) > Number (X+ 1) Then\n",
    "            Temp ← Number(X)\n",
    "            Number (X) ← Number (X+ 1)\n",
    "            Number(X+I) ← Temp\n",
    "            Flag ← True\n",
    "        End If\n",
    "        X ← X+1\n",
    "    Until EndofArray\n",
    "Until Flag = False\n",
    "```"
   ]
  },
  {
   "cell_type": "code",
   "execution_count": 18,
   "metadata": {},
   "outputs": [
    {
     "name": "stdout",
     "output_type": "stream",
     "text": [
      "[1, 4, 5, 6, 7, 11, 12, 12, 17, 18]\n"
     ]
    }
   ],
   "source": [
    "def bubbleSort(myList):\n",
    "    moreSwaps = True\n",
    "    while moreSwaps:\n",
    "        moreSwaps = False\n",
    "        for element in range(len(myList)-1):\n",
    "            if myList[element] > myList[element+1]:\n",
    "                #Swap\n",
    "                temp = myList[element+1]\n",
    "                myList[element+1] = myList[element] \n",
    "                myList[element] = temp\n",
    "                moreSwaps = True\n",
    "                \n",
    "    return myList\n",
    "\n",
    "\n",
    "                \n",
    "a_list = [12, 5, 7, 18, 11, 6, 12, 4, 17, 1]\n",
    "print(bubbleSort(a_list))"
   ]
  },
  {
   "cell_type": "markdown",
   "metadata": {},
   "source": [
    "## 4. Insertion Sort\n",
    "#### Algorithm\n",
    "```\n",
    "Procedure InsertionSort (List, First, Last)\n",
    "    For CurrentPointer <- First + 1 To Last\n",
    "        CurrentValue <- List[CurrentPointer]\n",
    "        Pointer <- CurrentPointer − 1\n",
    "        While List[Pointer] > CurrentValue AND Pointer > 0\n",
    "            List[Pointer+1] <- List[Pointer]\n",
    "            Pointer <- Pointer − 1\n",
    "        EndWhile\n",
    "        List[Pointer+1] <- CurrentValue\n",
    "    EndFor\n",
    "EndProcedure\n",
    "```"
   ]
  },
  {
   "cell_type": "code",
   "execution_count": null,
   "metadata": {},
   "outputs": [],
   "source": []
  },
  {
   "cell_type": "markdown",
   "metadata": {},
   "source": [
    "## 5. Quick Sort\n"
   ]
  },
  {
   "cell_type": "code",
   "execution_count": 20,
   "metadata": {},
   "outputs": [
    {
     "name": "stdout",
     "output_type": "stream",
     "text": [
      "[1, 2, 4, 5, 6, 7, 11, 19, 29]\n"
     ]
    }
   ],
   "source": [
    "# quick sort\n",
    "def partition(myList, start, end):\n",
    "    pivot = myList[start]\n",
    "    left = start+1\n",
    "    # Start outside the area to be partitioned\n",
    "    right = end\n",
    "    done = False\n",
    "    while not done:\n",
    "        while left <= right and myList[left] <= pivot:\n",
    "            left = left + 1\n",
    "        while myList[right] >= pivot and right >=left:\n",
    "            right = right -1\n",
    "        if right < left:\n",
    "            done= True\n",
    "        else:\n",
    "            # swap places\n",
    "            temp=myList[left]\n",
    "            myList[left]=myList[right]\n",
    "            myList[right]=temp\n",
    "    # swap start with myList[right]\n",
    "    temp=myList[start]\n",
    "    myList[start]=myList[right]\n",
    "    myList[right]=temp\n",
    "    return right\n",
    "\n",
    "\n",
    "def quicksort(myList, start, end):\n",
    "    if start < end:\n",
    "        # partition the list\n",
    "        split = partition(myList, start, end)\n",
    "        # sort both halves\n",
    "        quicksort(myList, start, split-1)\n",
    "        quicksort(myList, split+1, end)\n",
    "    return myList\n",
    "\n",
    "\n",
    "\n",
    "\n",
    "myList = [7,2,5,1,29,6,4,19,11]\n",
    "sortedList = quicksort(myList,0,len(myList)-1)\n",
    "print(sortedList)"
   ]
  },
  {
   "cell_type": "markdown",
   "metadata": {},
   "source": [
    "## 6. Stack"
   ]
  },
  {
   "cell_type": "code",
   "execution_count": 105,
   "metadata": {},
   "outputs": [],
   "source": [
    "class Stack:\n",
    "    def __init__(self):\n",
    "        self.item = []\n",
    "    def push(self,item):\n",
    "        self.item.append(item)\n",
    "    def pop(self):\n",
    "        del self.item[-1]\n",
    "        \n",
    "    def isEmpty(self):\n",
    "        if self.item ==[]:\n",
    "            return True\n",
    "        else:\n",
    "            return False\n",
    "    def __str__(self):\n",
    "        my_string = \"\"\n",
    "        for a in reversed(self.item):\n",
    "            my_string = my_string+\"|\"+str(a)\n",
    "        return my_string\n",
    "\n",
    "        "
   ]
  },
  {
   "cell_type": "code",
   "execution_count": 106,
   "metadata": {},
   "outputs": [
    {
     "data": {
      "text/plain": [
       "False"
      ]
     },
     "execution_count": 106,
     "metadata": {},
     "output_type": "execute_result"
    }
   ],
   "source": [
    "myStack = Stack()\n",
    "myStack.push(20)\n",
    "myStack.push(30)\n",
    "myStack.isEmpty()"
   ]
  },
  {
   "cell_type": "code",
   "execution_count": 108,
   "metadata": {},
   "outputs": [
    {
     "name": "stdout",
     "output_type": "stream",
     "text": [
      "|30|20\n"
     ]
    }
   ],
   "source": [
    "print(myStack)\n",
    "\n",
    "myStack.push(50)\n",
    "myStack.push(100)"
   ]
  },
  {
   "cell_type": "code",
   "execution_count": 109,
   "metadata": {},
   "outputs": [
    {
     "name": "stdout",
     "output_type": "stream",
     "text": [
      "|100|50|30|20\n"
     ]
    }
   ],
   "source": [
    "print(myStack)"
   ]
  },
  {
   "cell_type": "code",
   "execution_count": 110,
   "metadata": {},
   "outputs": [],
   "source": [
    "myStack.pop()"
   ]
  },
  {
   "cell_type": "code",
   "execution_count": 111,
   "metadata": {},
   "outputs": [
    {
     "name": "stdout",
     "output_type": "stream",
     "text": [
      "|50|30|20\n"
     ]
    }
   ],
   "source": [
    "print(myStack)"
   ]
  },
  {
   "cell_type": "markdown",
   "metadata": {},
   "source": [
    "## 7. Queue"
   ]
  },
  {
   "cell_type": "code",
   "execution_count": 113,
   "metadata": {},
   "outputs": [],
   "source": [
    "## First in first out, interted in 0 position will be removed first\n",
    "class Queue:\n",
    "    def __init__(self):\n",
    "        self.items = []\n",
    "    def enqueue(self, item):\n",
    "        self.items.append(item)\n",
    "    def dequeue(self):\n",
    "        deletedItem = self.items[0]\n",
    "        del self.items[0]\n",
    "        return deletedItem\n",
    "    def isEmpty(self):\n",
    "        if self.items==[]:\n",
    "            return True\n",
    "        else:\n",
    "            return False\n",
    "  \n",
    "        "
   ]
  },
  {
   "cell_type": "code",
   "execution_count": null,
   "metadata": {},
   "outputs": [],
   "source": []
  }
 ],
 "metadata": {
  "kernelspec": {
   "display_name": "Python 3",
   "language": "python",
   "name": "python3"
  },
  "language_info": {
   "codemirror_mode": {
    "name": "ipython",
    "version": 3
   },
   "file_extension": ".py",
   "mimetype": "text/x-python",
   "name": "python",
   "nbconvert_exporter": "python",
   "pygments_lexer": "ipython3",
   "version": "3.6.5"
  }
 },
 "nbformat": 4,
 "nbformat_minor": 2
}
