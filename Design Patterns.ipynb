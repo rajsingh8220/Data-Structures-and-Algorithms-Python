{
 "cells": [
  {
   "cell_type": "markdown",
   "metadata": {},
   "source": [
    "# Design Patterns\n",
    "\n",
    "### Class Attribute and Instance Attribute\n",
    "The code includes class attribute and instance attributes, which are printed as per the requirement of the output. There are various features that form part of the object oriented pattern. The features are explained in the next chapter."
   ]
  },
  {
   "cell_type": "code",
   "execution_count": 2,
   "metadata": {},
   "outputs": [
    {
     "name": "stdout",
     "output_type": "stream",
     "text": [
      "Blu is a bird\n",
      "Woo is also a bird\n",
      "Blu is 10 years old\n",
      "Woo is 15 years old\n"
     ]
    }
   ],
   "source": [
    "class Parrot:\n",
    "   # class attribute\n",
    "   species = \"bird\"\n",
    "   # instance attribute\n",
    "   def __init__(self, name, age):\n",
    "      self.name = name\n",
    "      self.age = age\n",
    "\n",
    "# instantiate the Parrot class\n",
    "blu = Parrot(\"Blu\", 10)\n",
    "woo = Parrot(\"Woo\", 15)\n",
    "\n",
    "# access the class attributes\n",
    "print(\"Blu is a {}\".format(blu.__class__.species))\n",
    "print(\"Woo is also a {}\".format(woo.__class__.species))\n",
    "\n",
    "# access the instance attributes\n",
    "print(\"{} is {} years old\".format( blu.name, blu.age))\n",
    "print(\"{} is {} years old\".format( woo.name, woo.age))"
   ]
  },
  {
   "cell_type": "markdown",
   "metadata": {},
   "source": [
    "### How to implement classes and object variables"
   ]
  },
  {
   "cell_type": "code",
   "execution_count": 5,
   "metadata": {},
   "outputs": [
    {
     "name": "stdout",
     "output_type": "stream",
     "text": [
      "(Initializing R2-D2)\n",
      "Greetings, my masters call me R2-D2.\n",
      "We have 1 robots.\n",
      "(Initializing C-3PO)\n",
      "Greetings, my masters call me C-3PO.\n",
      "We have 2 robots.\n",
      "\n",
      "Robots can do some work here.\n",
      "\n",
      "Robots have finished their work. So let's destroy them.\n",
      "R2-D2 is being destroyed!\n",
      "There are still 1 robots working.\n",
      "C-3PO is being destroyed!\n",
      "C-3PO was the last one.\n",
      "We have 0 robots.\n",
      "0\n"
     ]
    }
   ],
   "source": [
    "class Robot:\n",
    "   population = 0\n",
    "   \n",
    "   def __init__(self, name):\n",
    "      self.name = name\n",
    "      print(\"(Initializing {})\".format(self.name))\n",
    "      Robot.population += 1\n",
    "   \n",
    "   def die(self):\n",
    "      print(\"{} is being destroyed!\".format(self.name))\n",
    "      Robot.population -= 1\n",
    "      if Robot.population == 0:\n",
    "         print(\"{} was the last one.\".format(self.name))\n",
    "      else:\n",
    "         print(\"There are still {:d} robots working.\".format(\n",
    "            Robot.population))\n",
    "   \n",
    "   def say_hi(self):\n",
    "      print(\"Greetings, my masters call me {}.\".format(self.name))\n",
    "   \n",
    "   @classmethod\n",
    "   def how_many(clse):\n",
    "      print(\"We have {:d} robots.\".format(clse.population))\n",
    "droid1 = Robot(\"R2-D2\")\n",
    "droid1.say_hi()\n",
    "Robot.how_many()\n",
    "\n",
    "droid2 = Robot(\"C-3PO\")\n",
    "droid2.say_hi()\n",
    "Robot.how_many()\n",
    "\n",
    "print(\"\\nRobots can do some work here.\\n\")\n",
    "\n",
    "print(\"Robots have finished their work. So let's destroy them.\")\n",
    "droid1.die()\n",
    "droid2.die()\n",
    "\n",
    "Robot.how_many()\n",
    "\n",
    "#OR simply we can access like this\n",
    "print(droid1.__class__.population)"
   ]
  },
  {
   "cell_type": "markdown",
   "metadata": {},
   "source": [
    "### 1. Singleton Pattern"
   ]
  },
  {
   "cell_type": "code",
   "execution_count": 7,
   "metadata": {},
   "outputs": [
    {
     "name": "stdout",
     "output_type": "stream",
     "text": [
      "<__main__.Singleton object at 0x0000023396C2AFD0>\n",
      "<__main__.Singleton object at 0x0000023396C2AFD0>\n",
      "<__main__.Singleton object at 0x0000023396C2AFD0>\n"
     ]
    }
   ],
   "source": [
    "class Singleton:\n",
    "   __instance = None\n",
    "   @staticmethod \n",
    "   def getInstance():\n",
    "      \"\"\" Static access method. \"\"\"\n",
    "      if Singleton.__instance == None:\n",
    "         Singleton()\n",
    "      return Singleton.__instance\n",
    "   def __init__(self):\n",
    "      \"\"\" Virtually private constructor. \"\"\"\n",
    "      if Singleton.__instance != None:\n",
    "         raise Exception(\"This class is a singleton!\")\n",
    "      else:\n",
    "         Singleton.__instance = self\n",
    "s = Singleton()\n",
    "print(s)\n",
    "\n",
    "s = Singleton.getInstance()\n",
    "print(s)\n",
    "\n",
    "s = Singleton.getInstance()\n",
    "print(s)"
   ]
  },
  {
   "cell_type": "markdown",
   "metadata": {},
   "source": [
    "## 2. Factory Pattern\n"
   ]
  },
  {
   "cell_type": "code",
   "execution_count": 9,
   "metadata": {},
   "outputs": [
    {
     "name": "stdout",
     "output_type": "stream",
     "text": [
      "<img></img>\n",
      "<input></input>\n",
      "<obj></obj>\n"
     ]
    }
   ],
   "source": [
    "class Button(object):\n",
    "   html = \"\"\n",
    "   def get_html(self):\n",
    "      return self.html\n",
    "\n",
    "class Image(Button):\n",
    "   html = \"<img></img>\"\n",
    "\n",
    "class Input(Button):\n",
    "   html = \"<input></input>\"\n",
    "\n",
    "class Flash(Button):\n",
    "   html = \"<obj></obj>\"\n",
    "\n",
    "class ButtonFactory():\n",
    "   def create_button(self, typ):\n",
    "      targetclass = typ.capitalize()\n",
    "      return globals()[targetclass]()\n",
    "\n",
    "button_obj = ButtonFactory()\n",
    "button = ['image', 'input', 'flash']\n",
    "for b in button:\n",
    "   print(button_obj.create_button(b).get_html())"
   ]
  },
  {
   "cell_type": "code",
   "execution_count": null,
   "metadata": {},
   "outputs": [],
   "source": []
  }
 ],
 "metadata": {
  "kernelspec": {
   "display_name": "Python 3",
   "language": "python",
   "name": "python3"
  },
  "language_info": {
   "codemirror_mode": {
    "name": "ipython",
    "version": 3
   },
   "file_extension": ".py",
   "mimetype": "text/x-python",
   "name": "python",
   "nbconvert_exporter": "python",
   "pygments_lexer": "ipython3",
   "version": "3.6.5"
  }
 },
 "nbformat": 4,
 "nbformat_minor": 2
}
